{
 "nbformat": 4,
 "nbformat_minor": 2,
 "metadata": {
  "language_info": {
   "name": "python",
   "codemirror_mode": {
    "name": "ipython",
    "version": 3
   },
   "version": "3.6.8-final"
  },
  "orig_nbformat": 2,
  "file_extension": ".py",
  "mimetype": "text/x-python",
  "name": "python",
  "npconvert_exporter": "python",
  "pygments_lexer": "ipython3",
  "version": 3,
  "kernelspec": {
   "name": "python36864bitvenvfac4017c01e74b3ca2af5e834909c608",
   "display_name": "Python 3.6.8 64-bit ('venv')"
  }
 },
 "cells": [
  {
   "cell_type": "code",
   "execution_count": 1,
   "metadata": {},
   "outputs": [],
   "source": [
    "import pandas as pd\n",
    "import numpy as np"
   ]
  },
  {
   "cell_type": "code",
   "execution_count": 2,
   "metadata": {},
   "outputs": [
    {
     "output_type": "execute_result",
     "data": {
      "text/plain": "   state_name  SD  LD  NESC  PC  GS  CPV start_date    cases_y  \\\n0  California   0   0     0   0   0    0    1/26/20   1.025641   \n1  California   1   0     0   0   0    0     3/5/20  17.166667   \n2  California   1   0     0   0   1    0    3/11/20  38.000000   \n3  California   1   0     0   0   3    0    3/12/20  46.000000   \n4  California   1   0     0   1   4    0    3/13/20  63.000000   \n\n   infection_rate  deaths_y  death_rate  \n0        0.126244  0.000000    0.000000  \n1        0.244940  0.333333    0.003505  \n2        0.263889  0.000000    0.000000  \n3        0.252747  1.000000    0.005495  \n4        0.247435  0.500000    0.001845  ",
      "text/html": "<div>\n<style scoped>\n    .dataframe tbody tr th:only-of-type {\n        vertical-align: middle;\n    }\n\n    .dataframe tbody tr th {\n        vertical-align: top;\n    }\n\n    .dataframe thead th {\n        text-align: right;\n    }\n</style>\n<table border=\"1\" class=\"dataframe\">\n  <thead>\n    <tr style=\"text-align: right;\">\n      <th></th>\n      <th>state_name</th>\n      <th>SD</th>\n      <th>LD</th>\n      <th>NESC</th>\n      <th>PC</th>\n      <th>GS</th>\n      <th>CPV</th>\n      <th>start_date</th>\n      <th>cases_y</th>\n      <th>infection_rate</th>\n      <th>deaths_y</th>\n      <th>death_rate</th>\n    </tr>\n  </thead>\n  <tbody>\n    <tr>\n      <th>0</th>\n      <td>California</td>\n      <td>0</td>\n      <td>0</td>\n      <td>0</td>\n      <td>0</td>\n      <td>0</td>\n      <td>0</td>\n      <td>1/26/20</td>\n      <td>1.025641</td>\n      <td>0.126244</td>\n      <td>0.000000</td>\n      <td>0.000000</td>\n    </tr>\n    <tr>\n      <th>1</th>\n      <td>California</td>\n      <td>1</td>\n      <td>0</td>\n      <td>0</td>\n      <td>0</td>\n      <td>0</td>\n      <td>0</td>\n      <td>3/5/20</td>\n      <td>17.166667</td>\n      <td>0.244940</td>\n      <td>0.333333</td>\n      <td>0.003505</td>\n    </tr>\n    <tr>\n      <th>2</th>\n      <td>California</td>\n      <td>1</td>\n      <td>0</td>\n      <td>0</td>\n      <td>0</td>\n      <td>1</td>\n      <td>0</td>\n      <td>3/11/20</td>\n      <td>38.000000</td>\n      <td>0.263889</td>\n      <td>0.000000</td>\n      <td>0.000000</td>\n    </tr>\n    <tr>\n      <th>3</th>\n      <td>California</td>\n      <td>1</td>\n      <td>0</td>\n      <td>0</td>\n      <td>0</td>\n      <td>3</td>\n      <td>0</td>\n      <td>3/12/20</td>\n      <td>46.000000</td>\n      <td>0.252747</td>\n      <td>1.000000</td>\n      <td>0.005495</td>\n    </tr>\n    <tr>\n      <th>4</th>\n      <td>California</td>\n      <td>1</td>\n      <td>0</td>\n      <td>0</td>\n      <td>1</td>\n      <td>4</td>\n      <td>0</td>\n      <td>3/13/20</td>\n      <td>63.000000</td>\n      <td>0.247435</td>\n      <td>0.500000</td>\n      <td>0.001845</td>\n    </tr>\n  </tbody>\n</table>\n</div>"
     },
     "metadata": {},
     "execution_count": 2
    }
   ],
   "source": [
    "df = pd.read_csv('model_data.csv').drop(columns = ['Unnamed: 0'])\n",
    "df.head()"
   ]
  },
  {
   "cell_type": "markdown",
   "metadata": {},
   "source": [
    "### Additional Data Source\n",
    "- Aging\n",
    "- Popularity density\n",
    "- [Number of Airports](https://www.globalair.com/airport/state.aspx)\n",
    "- [Area](https://en.wikipedia.org/wiki/List_of_U.S._states_and_territories_by_area)\n",
    "- [Education Index](http://www.usa.com/rank/us--average-education-index--state-rank.htm)\n",
    "- [Medical]()"
   ]
  },
  {
   "cell_type": "code",
   "execution_count": 3,
   "metadata": {},
   "outputs": [
    {
     "output_type": "execute_result",
     "data": {
      "text/plain": "             state_name  aging  pop_density_sqkm  n_airports  area_sqkm  \\\n0            California  0.143              95.0         492     423967   \n1              Colorado  0.142              19.6         265     269601   \n2  District of Columbia  0.122            4088.4           3        177   \n3               Florida  0.205             140.8         482     170312   \n4               Georgia  0.138              67.1         328     153910   \n\n   education_index  \n0            13.44  \n1            14.14  \n2            14.93  \n3            13.42  \n4            13.41  ",
      "text/html": "<div>\n<style scoped>\n    .dataframe tbody tr th:only-of-type {\n        vertical-align: middle;\n    }\n\n    .dataframe tbody tr th {\n        vertical-align: top;\n    }\n\n    .dataframe thead th {\n        text-align: right;\n    }\n</style>\n<table border=\"1\" class=\"dataframe\">\n  <thead>\n    <tr style=\"text-align: right;\">\n      <th></th>\n      <th>state_name</th>\n      <th>aging</th>\n      <th>pop_density_sqkm</th>\n      <th>n_airports</th>\n      <th>area_sqkm</th>\n      <th>education_index</th>\n    </tr>\n  </thead>\n  <tbody>\n    <tr>\n      <th>0</th>\n      <td>California</td>\n      <td>0.143</td>\n      <td>95.0</td>\n      <td>492</td>\n      <td>423967</td>\n      <td>13.44</td>\n    </tr>\n    <tr>\n      <th>1</th>\n      <td>Colorado</td>\n      <td>0.142</td>\n      <td>19.6</td>\n      <td>265</td>\n      <td>269601</td>\n      <td>14.14</td>\n    </tr>\n    <tr>\n      <th>2</th>\n      <td>District of Columbia</td>\n      <td>0.122</td>\n      <td>4088.4</td>\n      <td>3</td>\n      <td>177</td>\n      <td>14.93</td>\n    </tr>\n    <tr>\n      <th>3</th>\n      <td>Florida</td>\n      <td>0.205</td>\n      <td>140.8</td>\n      <td>482</td>\n      <td>170312</td>\n      <td>13.42</td>\n    </tr>\n    <tr>\n      <th>4</th>\n      <td>Georgia</td>\n      <td>0.138</td>\n      <td>67.1</td>\n      <td>328</td>\n      <td>153910</td>\n      <td>13.41</td>\n    </tr>\n  </tbody>\n</table>\n</div>"
     },
     "metadata": {},
     "execution_count": 3
    }
   ],
   "source": [
    "df_aux = pd.read_csv('aux_data.csv').drop(columns = ['Unnamed: 0'])\n",
    "df_aux.head()"
   ]
  },
  {
   "cell_type": "code",
   "execution_count": 4,
   "metadata": {},
   "outputs": [
    {
     "output_type": "execute_result",
     "data": {
      "text/plain": "             state_name  aging  pop_density_sqkm  education_index  \\\n0            California  0.143              95.0            13.44   \n1              Colorado  0.142              19.6            14.14   \n2  District of Columbia  0.122            4088.4            14.93   \n3               Florida  0.205             140.8            13.42   \n4               Georgia  0.138              67.1            13.41   \n\n   airport_density_sqkm  \n0              0.001160  \n1              0.000983  \n2              0.016949  \n3              0.002830  \n4              0.002131  ",
      "text/html": "<div>\n<style scoped>\n    .dataframe tbody tr th:only-of-type {\n        vertical-align: middle;\n    }\n\n    .dataframe tbody tr th {\n        vertical-align: top;\n    }\n\n    .dataframe thead th {\n        text-align: right;\n    }\n</style>\n<table border=\"1\" class=\"dataframe\">\n  <thead>\n    <tr style=\"text-align: right;\">\n      <th></th>\n      <th>state_name</th>\n      <th>aging</th>\n      <th>pop_density_sqkm</th>\n      <th>education_index</th>\n      <th>airport_density_sqkm</th>\n    </tr>\n  </thead>\n  <tbody>\n    <tr>\n      <th>0</th>\n      <td>California</td>\n      <td>0.143</td>\n      <td>95.0</td>\n      <td>13.44</td>\n      <td>0.001160</td>\n    </tr>\n    <tr>\n      <th>1</th>\n      <td>Colorado</td>\n      <td>0.142</td>\n      <td>19.6</td>\n      <td>14.14</td>\n      <td>0.000983</td>\n    </tr>\n    <tr>\n      <th>2</th>\n      <td>District of Columbia</td>\n      <td>0.122</td>\n      <td>4088.4</td>\n      <td>14.93</td>\n      <td>0.016949</td>\n    </tr>\n    <tr>\n      <th>3</th>\n      <td>Florida</td>\n      <td>0.205</td>\n      <td>140.8</td>\n      <td>13.42</td>\n      <td>0.002830</td>\n    </tr>\n    <tr>\n      <th>4</th>\n      <td>Georgia</td>\n      <td>0.138</td>\n      <td>67.1</td>\n      <td>13.41</td>\n      <td>0.002131</td>\n    </tr>\n  </tbody>\n</table>\n</div>"
     },
     "metadata": {},
     "execution_count": 4
    }
   ],
   "source": [
    "df_aux['airport_density_sqkm'] = df_aux['n_airports'] / df_aux['area_sqkm']\n",
    "df_aux.drop(columns=['n_airports', 'area_sqkm'], inplace=True)\n",
    "df_aux.head()"
   ]
  },
  {
   "cell_type": "code",
   "execution_count": 5,
   "metadata": {
    "tags": [
     "outputPrepend"
    ]
   },
   "outputs": [
    {
     "output_type": "execute_result",
     "data": {
      "text/plain": "    state_name  SD  LD  NESC  PC  GS  CPV start_date     cases_y  \\\n0   California   0   0     0   0   0    0    1/26/20    1.025641   \n1   California   1   0     0   0   0    0     3/5/20   17.166667   \n2   California   1   0     0   0   1    0    3/11/20   38.000000   \n3   California   1   0     0   0   3    0    3/12/20   46.000000   \n4   California   1   0     0   1   4    0    3/13/20   63.000000   \n..         ...  ..  ..   ...  ..  ..  ...        ...         ...   \n60  Washington   0   0     0   0   0    0    1/21/20    0.414634   \n61  Washington   0   0     0   1   0    0     3/2/20   17.000000   \n62  Washington   1   0     0   1   0    0     3/5/20   39.166667   \n63  Washington   1   0     0   1   3    0    3/11/20   76.800000   \n64  Washington   1   0     1   1   5    2    3/16/20  186.800000   \n\n    infection_rate  deaths_y  death_rate  aging  pop_density_sqkm  \\\n0         0.126244  0.000000    0.000000  0.143              95.0   \n1         0.244940  0.333333    0.003505  0.143              95.0   \n2         0.263889  0.000000    0.000000  0.143              95.0   \n3         0.252747  1.000000    0.005495  0.143              95.0   \n4         0.247435  0.500000    0.001845  0.143              95.0   \n..             ...       ...         ...    ...               ...   \n60        0.111007  0.146341    0.021889  0.154              40.5   \n61        0.567148  1.666667    0.086420  0.154              40.5   \n62        0.287014  2.833333    0.023776  0.154              40.5   \n63        0.178568  3.800000    0.008671  0.154              40.5   \n64        0.134661  9.363636    0.006928  0.154              40.5   \n\n    education_index  airport_density_sqkm  \n0             13.44              0.001160  \n1             13.44              0.001160  \n2             13.44              0.001160  \n3             13.44              0.001160  \n4             13.44              0.001160  \n..              ...                   ...  \n60            13.94              0.001922  \n61            13.94              0.001922  \n62            13.94              0.001922  \n63            13.94              0.001922  \n64            13.94              0.001922  \n\n[65 rows x 16 columns]",
      "text/html": "<div>\n<style scoped>\n    .dataframe tbody tr th:only-of-type {\n        vertical-align: middle;\n    }\n\n    .dataframe tbody tr th {\n        vertical-align: top;\n    }\n\n    .dataframe thead th {\n        text-align: right;\n    }\n</style>\n<table border=\"1\" class=\"dataframe\">\n  <thead>\n    <tr style=\"text-align: right;\">\n      <th></th>\n      <th>state_name</th>\n      <th>SD</th>\n      <th>LD</th>\n      <th>NESC</th>\n      <th>PC</th>\n      <th>GS</th>\n      <th>CPV</th>\n      <th>start_date</th>\n      <th>cases_y</th>\n      <th>infection_rate</th>\n      <th>deaths_y</th>\n      <th>death_rate</th>\n      <th>aging</th>\n      <th>pop_density_sqkm</th>\n      <th>education_index</th>\n      <th>airport_density_sqkm</th>\n    </tr>\n  </thead>\n  <tbody>\n    <tr>\n      <th>0</th>\n      <td>California</td>\n      <td>0</td>\n      <td>0</td>\n      <td>0</td>\n      <td>0</td>\n      <td>0</td>\n      <td>0</td>\n      <td>1/26/20</td>\n      <td>1.025641</td>\n      <td>0.126244</td>\n      <td>0.000000</td>\n      <td>0.000000</td>\n      <td>0.143</td>\n      <td>95.0</td>\n      <td>13.44</td>\n      <td>0.001160</td>\n    </tr>\n    <tr>\n      <th>1</th>\n      <td>California</td>\n      <td>1</td>\n      <td>0</td>\n      <td>0</td>\n      <td>0</td>\n      <td>0</td>\n      <td>0</td>\n      <td>3/5/20</td>\n      <td>17.166667</td>\n      <td>0.244940</td>\n      <td>0.333333</td>\n      <td>0.003505</td>\n      <td>0.143</td>\n      <td>95.0</td>\n      <td>13.44</td>\n      <td>0.001160</td>\n    </tr>\n    <tr>\n      <th>2</th>\n      <td>California</td>\n      <td>1</td>\n      <td>0</td>\n      <td>0</td>\n      <td>0</td>\n      <td>1</td>\n      <td>0</td>\n      <td>3/11/20</td>\n      <td>38.000000</td>\n      <td>0.263889</td>\n      <td>0.000000</td>\n      <td>0.000000</td>\n      <td>0.143</td>\n      <td>95.0</td>\n      <td>13.44</td>\n      <td>0.001160</td>\n    </tr>\n    <tr>\n      <th>3</th>\n      <td>California</td>\n      <td>1</td>\n      <td>0</td>\n      <td>0</td>\n      <td>0</td>\n      <td>3</td>\n      <td>0</td>\n      <td>3/12/20</td>\n      <td>46.000000</td>\n      <td>0.252747</td>\n      <td>1.000000</td>\n      <td>0.005495</td>\n      <td>0.143</td>\n      <td>95.0</td>\n      <td>13.44</td>\n      <td>0.001160</td>\n    </tr>\n    <tr>\n      <th>4</th>\n      <td>California</td>\n      <td>1</td>\n      <td>0</td>\n      <td>0</td>\n      <td>1</td>\n      <td>4</td>\n      <td>0</td>\n      <td>3/13/20</td>\n      <td>63.000000</td>\n      <td>0.247435</td>\n      <td>0.500000</td>\n      <td>0.001845</td>\n      <td>0.143</td>\n      <td>95.0</td>\n      <td>13.44</td>\n      <td>0.001160</td>\n    </tr>\n    <tr>\n      <th>...</th>\n      <td>...</td>\n      <td>...</td>\n      <td>...</td>\n      <td>...</td>\n      <td>...</td>\n      <td>...</td>\n      <td>...</td>\n      <td>...</td>\n      <td>...</td>\n      <td>...</td>\n      <td>...</td>\n      <td>...</td>\n      <td>...</td>\n      <td>...</td>\n      <td>...</td>\n      <td>...</td>\n    </tr>\n    <tr>\n      <th>60</th>\n      <td>Washington</td>\n      <td>0</td>\n      <td>0</td>\n      <td>0</td>\n      <td>0</td>\n      <td>0</td>\n      <td>0</td>\n      <td>1/21/20</td>\n      <td>0.414634</td>\n      <td>0.111007</td>\n      <td>0.146341</td>\n      <td>0.021889</td>\n      <td>0.154</td>\n      <td>40.5</td>\n      <td>13.94</td>\n      <td>0.001922</td>\n    </tr>\n    <tr>\n      <th>61</th>\n      <td>Washington</td>\n      <td>0</td>\n      <td>0</td>\n      <td>0</td>\n      <td>1</td>\n      <td>0</td>\n      <td>0</td>\n      <td>3/2/20</td>\n      <td>17.000000</td>\n      <td>0.567148</td>\n      <td>1.666667</td>\n      <td>0.086420</td>\n      <td>0.154</td>\n      <td>40.5</td>\n      <td>13.94</td>\n      <td>0.001922</td>\n    </tr>\n    <tr>\n      <th>62</th>\n      <td>Washington</td>\n      <td>1</td>\n      <td>0</td>\n      <td>0</td>\n      <td>1</td>\n      <td>0</td>\n      <td>0</td>\n      <td>3/5/20</td>\n      <td>39.166667</td>\n      <td>0.287014</td>\n      <td>2.833333</td>\n      <td>0.023776</td>\n      <td>0.154</td>\n      <td>40.5</td>\n      <td>13.94</td>\n      <td>0.001922</td>\n    </tr>\n    <tr>\n      <th>63</th>\n      <td>Washington</td>\n      <td>1</td>\n      <td>0</td>\n      <td>0</td>\n      <td>1</td>\n      <td>3</td>\n      <td>0</td>\n      <td>3/11/20</td>\n      <td>76.800000</td>\n      <td>0.178568</td>\n      <td>3.800000</td>\n      <td>0.008671</td>\n      <td>0.154</td>\n      <td>40.5</td>\n      <td>13.94</td>\n      <td>0.001922</td>\n    </tr>\n    <tr>\n      <th>64</th>\n      <td>Washington</td>\n      <td>1</td>\n      <td>0</td>\n      <td>1</td>\n      <td>1</td>\n      <td>5</td>\n      <td>2</td>\n      <td>3/16/20</td>\n      <td>186.800000</td>\n      <td>0.134661</td>\n      <td>9.363636</td>\n      <td>0.006928</td>\n      <td>0.154</td>\n      <td>40.5</td>\n      <td>13.94</td>\n      <td>0.001922</td>\n    </tr>\n  </tbody>\n</table>\n<p>65 rows × 16 columns</p>\n</div>"
     },
     "metadata": {},
     "execution_count": 5
    }
   ],
   "source": [
    "df = df.merge(df_aux, left_on='state_name', right_on='state_name')\n",
    "df"
   ]
  },
  {
   "cell_type": "code",
   "execution_count": 6,
   "metadata": {},
   "outputs": [
    {
     "output_type": "execute_result",
     "data": {
      "text/plain": "              state_name  avg_principle_cost  surgical_quality\n0             California             1097181           31.2401\n1   District of Columbia               16630            0.5780\n2                Florida              854244           20.2232\n3                Georgia             1852784            7.6079\n4               Illinois             1389450            6.6204\n5                 Kansas              774205            3.0284\n6          Massachusetts              232123            2.1411\n7               Michigan             1269577            4.9486\n8                 Nevada              161156            2.2824\n9             New Jersey              360964           11.1371\n10              New York              933963            7.3405\n11                 Texas             2677282           17.7086\n12            Washington              591656            5.6037",
      "text/html": "<div>\n<style scoped>\n    .dataframe tbody tr th:only-of-type {\n        vertical-align: middle;\n    }\n\n    .dataframe tbody tr th {\n        vertical-align: top;\n    }\n\n    .dataframe thead th {\n        text-align: right;\n    }\n</style>\n<table border=\"1\" class=\"dataframe\">\n  <thead>\n    <tr style=\"text-align: right;\">\n      <th></th>\n      <th>state_name</th>\n      <th>avg_principle_cost</th>\n      <th>surgical_quality</th>\n    </tr>\n  </thead>\n  <tbody>\n    <tr>\n      <th>0</th>\n      <td>California</td>\n      <td>1097181</td>\n      <td>31.2401</td>\n    </tr>\n    <tr>\n      <th>1</th>\n      <td>District of Columbia</td>\n      <td>16630</td>\n      <td>0.5780</td>\n    </tr>\n    <tr>\n      <th>2</th>\n      <td>Florida</td>\n      <td>854244</td>\n      <td>20.2232</td>\n    </tr>\n    <tr>\n      <th>3</th>\n      <td>Georgia</td>\n      <td>1852784</td>\n      <td>7.6079</td>\n    </tr>\n    <tr>\n      <th>4</th>\n      <td>Illinois</td>\n      <td>1389450</td>\n      <td>6.6204</td>\n    </tr>\n    <tr>\n      <th>5</th>\n      <td>Kansas</td>\n      <td>774205</td>\n      <td>3.0284</td>\n    </tr>\n    <tr>\n      <th>6</th>\n      <td>Massachusetts</td>\n      <td>232123</td>\n      <td>2.1411</td>\n    </tr>\n    <tr>\n      <th>7</th>\n      <td>Michigan</td>\n      <td>1269577</td>\n      <td>4.9486</td>\n    </tr>\n    <tr>\n      <th>8</th>\n      <td>Nevada</td>\n      <td>161156</td>\n      <td>2.2824</td>\n    </tr>\n    <tr>\n      <th>9</th>\n      <td>New Jersey</td>\n      <td>360964</td>\n      <td>11.1371</td>\n    </tr>\n    <tr>\n      <th>10</th>\n      <td>New York</td>\n      <td>933963</td>\n      <td>7.3405</td>\n    </tr>\n    <tr>\n      <th>11</th>\n      <td>Texas</td>\n      <td>2677282</td>\n      <td>17.7086</td>\n    </tr>\n    <tr>\n      <th>12</th>\n      <td>Washington</td>\n      <td>591656</td>\n      <td>5.6037</td>\n    </tr>\n  </tbody>\n</table>\n</div>"
     },
     "metadata": {},
     "execution_count": 6
    }
   ],
   "source": [
    "df_medical = pd.read_csv('medical_data.csv')\n",
    "df_medical"
   ]
  },
  {
   "cell_type": "code",
   "execution_count": 7,
   "metadata": {},
   "outputs": [
    {
     "output_type": "execute_result",
     "data": {
      "text/plain": "    state_name  SD  LD  NESC  PC  GS  CPV start_date     cases_y  \\\n0   California   0   0     0   0   0    0    1/26/20    1.025641   \n1   California   1   0     0   0   0    0     3/5/20   17.166667   \n2   California   1   0     0   0   1    0    3/11/20   38.000000   \n3   California   1   0     0   0   3    0    3/12/20   46.000000   \n4   California   1   0     0   1   4    0    3/13/20   63.000000   \n..         ...  ..  ..   ...  ..  ..  ...        ...         ...   \n56  Washington   0   0     0   0   0    0    1/21/20    0.414634   \n57  Washington   0   0     0   1   0    0     3/2/20   17.000000   \n58  Washington   1   0     0   1   0    0     3/5/20   39.166667   \n59  Washington   1   0     0   1   3    0    3/11/20   76.800000   \n60  Washington   1   0     1   1   5    2    3/16/20  186.800000   \n\n    infection_rate  deaths_y  death_rate  aging  pop_density_sqkm  \\\n0         0.126244  0.000000    0.000000  0.143              95.0   \n1         0.244940  0.333333    0.003505  0.143              95.0   \n2         0.263889  0.000000    0.000000  0.143              95.0   \n3         0.252747  1.000000    0.005495  0.143              95.0   \n4         0.247435  0.500000    0.001845  0.143              95.0   \n..             ...       ...         ...    ...               ...   \n56        0.111007  0.146341    0.021889  0.154              40.5   \n57        0.567148  1.666667    0.086420  0.154              40.5   \n58        0.287014  2.833333    0.023776  0.154              40.5   \n59        0.178568  3.800000    0.008671  0.154              40.5   \n60        0.134661  9.363636    0.006928  0.154              40.5   \n\n    education_index  airport_density_sqkm  avg_principle_cost  \\\n0             13.44              0.001160             1097181   \n1             13.44              0.001160             1097181   \n2             13.44              0.001160             1097181   \n3             13.44              0.001160             1097181   \n4             13.44              0.001160             1097181   \n..              ...                   ...                 ...   \n56            13.94              0.001922              591656   \n57            13.94              0.001922              591656   \n58            13.94              0.001922              591656   \n59            13.94              0.001922              591656   \n60            13.94              0.001922              591656   \n\n    surgical_quality  \n0            31.2401  \n1            31.2401  \n2            31.2401  \n3            31.2401  \n4            31.2401  \n..               ...  \n56            5.6037  \n57            5.6037  \n58            5.6037  \n59            5.6037  \n60            5.6037  \n\n[61 rows x 18 columns]",
      "text/html": "<div>\n<style scoped>\n    .dataframe tbody tr th:only-of-type {\n        vertical-align: middle;\n    }\n\n    .dataframe tbody tr th {\n        vertical-align: top;\n    }\n\n    .dataframe thead th {\n        text-align: right;\n    }\n</style>\n<table border=\"1\" class=\"dataframe\">\n  <thead>\n    <tr style=\"text-align: right;\">\n      <th></th>\n      <th>state_name</th>\n      <th>SD</th>\n      <th>LD</th>\n      <th>NESC</th>\n      <th>PC</th>\n      <th>GS</th>\n      <th>CPV</th>\n      <th>start_date</th>\n      <th>cases_y</th>\n      <th>infection_rate</th>\n      <th>deaths_y</th>\n      <th>death_rate</th>\n      <th>aging</th>\n      <th>pop_density_sqkm</th>\n      <th>education_index</th>\n      <th>airport_density_sqkm</th>\n      <th>avg_principle_cost</th>\n      <th>surgical_quality</th>\n    </tr>\n  </thead>\n  <tbody>\n    <tr>\n      <th>0</th>\n      <td>California</td>\n      <td>0</td>\n      <td>0</td>\n      <td>0</td>\n      <td>0</td>\n      <td>0</td>\n      <td>0</td>\n      <td>1/26/20</td>\n      <td>1.025641</td>\n      <td>0.126244</td>\n      <td>0.000000</td>\n      <td>0.000000</td>\n      <td>0.143</td>\n      <td>95.0</td>\n      <td>13.44</td>\n      <td>0.001160</td>\n      <td>1097181</td>\n      <td>31.2401</td>\n    </tr>\n    <tr>\n      <th>1</th>\n      <td>California</td>\n      <td>1</td>\n      <td>0</td>\n      <td>0</td>\n      <td>0</td>\n      <td>0</td>\n      <td>0</td>\n      <td>3/5/20</td>\n      <td>17.166667</td>\n      <td>0.244940</td>\n      <td>0.333333</td>\n      <td>0.003505</td>\n      <td>0.143</td>\n      <td>95.0</td>\n      <td>13.44</td>\n      <td>0.001160</td>\n      <td>1097181</td>\n      <td>31.2401</td>\n    </tr>\n    <tr>\n      <th>2</th>\n      <td>California</td>\n      <td>1</td>\n      <td>0</td>\n      <td>0</td>\n      <td>0</td>\n      <td>1</td>\n      <td>0</td>\n      <td>3/11/20</td>\n      <td>38.000000</td>\n      <td>0.263889</td>\n      <td>0.000000</td>\n      <td>0.000000</td>\n      <td>0.143</td>\n      <td>95.0</td>\n      <td>13.44</td>\n      <td>0.001160</td>\n      <td>1097181</td>\n      <td>31.2401</td>\n    </tr>\n    <tr>\n      <th>3</th>\n      <td>California</td>\n      <td>1</td>\n      <td>0</td>\n      <td>0</td>\n      <td>0</td>\n      <td>3</td>\n      <td>0</td>\n      <td>3/12/20</td>\n      <td>46.000000</td>\n      <td>0.252747</td>\n      <td>1.000000</td>\n      <td>0.005495</td>\n      <td>0.143</td>\n      <td>95.0</td>\n      <td>13.44</td>\n      <td>0.001160</td>\n      <td>1097181</td>\n      <td>31.2401</td>\n    </tr>\n    <tr>\n      <th>4</th>\n      <td>California</td>\n      <td>1</td>\n      <td>0</td>\n      <td>0</td>\n      <td>1</td>\n      <td>4</td>\n      <td>0</td>\n      <td>3/13/20</td>\n      <td>63.000000</td>\n      <td>0.247435</td>\n      <td>0.500000</td>\n      <td>0.001845</td>\n      <td>0.143</td>\n      <td>95.0</td>\n      <td>13.44</td>\n      <td>0.001160</td>\n      <td>1097181</td>\n      <td>31.2401</td>\n    </tr>\n    <tr>\n      <th>...</th>\n      <td>...</td>\n      <td>...</td>\n      <td>...</td>\n      <td>...</td>\n      <td>...</td>\n      <td>...</td>\n      <td>...</td>\n      <td>...</td>\n      <td>...</td>\n      <td>...</td>\n      <td>...</td>\n      <td>...</td>\n      <td>...</td>\n      <td>...</td>\n      <td>...</td>\n      <td>...</td>\n      <td>...</td>\n      <td>...</td>\n    </tr>\n    <tr>\n      <th>56</th>\n      <td>Washington</td>\n      <td>0</td>\n      <td>0</td>\n      <td>0</td>\n      <td>0</td>\n      <td>0</td>\n      <td>0</td>\n      <td>1/21/20</td>\n      <td>0.414634</td>\n      <td>0.111007</td>\n      <td>0.146341</td>\n      <td>0.021889</td>\n      <td>0.154</td>\n      <td>40.5</td>\n      <td>13.94</td>\n      <td>0.001922</td>\n      <td>591656</td>\n      <td>5.6037</td>\n    </tr>\n    <tr>\n      <th>57</th>\n      <td>Washington</td>\n      <td>0</td>\n      <td>0</td>\n      <td>0</td>\n      <td>1</td>\n      <td>0</td>\n      <td>0</td>\n      <td>3/2/20</td>\n      <td>17.000000</td>\n      <td>0.567148</td>\n      <td>1.666667</td>\n      <td>0.086420</td>\n      <td>0.154</td>\n      <td>40.5</td>\n      <td>13.94</td>\n      <td>0.001922</td>\n      <td>591656</td>\n      <td>5.6037</td>\n    </tr>\n    <tr>\n      <th>58</th>\n      <td>Washington</td>\n      <td>1</td>\n      <td>0</td>\n      <td>0</td>\n      <td>1</td>\n      <td>0</td>\n      <td>0</td>\n      <td>3/5/20</td>\n      <td>39.166667</td>\n      <td>0.287014</td>\n      <td>2.833333</td>\n      <td>0.023776</td>\n      <td>0.154</td>\n      <td>40.5</td>\n      <td>13.94</td>\n      <td>0.001922</td>\n      <td>591656</td>\n      <td>5.6037</td>\n    </tr>\n    <tr>\n      <th>59</th>\n      <td>Washington</td>\n      <td>1</td>\n      <td>0</td>\n      <td>0</td>\n      <td>1</td>\n      <td>3</td>\n      <td>0</td>\n      <td>3/11/20</td>\n      <td>76.800000</td>\n      <td>0.178568</td>\n      <td>3.800000</td>\n      <td>0.008671</td>\n      <td>0.154</td>\n      <td>40.5</td>\n      <td>13.94</td>\n      <td>0.001922</td>\n      <td>591656</td>\n      <td>5.6037</td>\n    </tr>\n    <tr>\n      <th>60</th>\n      <td>Washington</td>\n      <td>1</td>\n      <td>0</td>\n      <td>1</td>\n      <td>1</td>\n      <td>5</td>\n      <td>2</td>\n      <td>3/16/20</td>\n      <td>186.800000</td>\n      <td>0.134661</td>\n      <td>9.363636</td>\n      <td>0.006928</td>\n      <td>0.154</td>\n      <td>40.5</td>\n      <td>13.94</td>\n      <td>0.001922</td>\n      <td>591656</td>\n      <td>5.6037</td>\n    </tr>\n  </tbody>\n</table>\n<p>61 rows × 18 columns</p>\n</div>"
     },
     "metadata": {},
     "execution_count": 7
    }
   ],
   "source": [
    "df = df.merge(df_medical, left_on='state_name', right_on='state_name')\n",
    "df"
   ]
  },
  {
   "cell_type": "code",
   "execution_count": 8,
   "metadata": {},
   "outputs": [
    {
     "output_type": "stream",
     "name": "stdout",
     "text": "state_name\nSD\nLD\nNESC\nPC\nGS\nCPV\nstart_date\ncases_y\ninfection_rate\ndeaths_y\ndeath_rate\naging\npop_density_sqkm\neducation_index\nairport_density_sqkm\navg_principle_cost\nsurgical_quality\n"
    }
   ],
   "source": [
    "for name in df.columns:\n",
    "    print(name)"
   ]
  },
  {
   "cell_type": "code",
   "execution_count": 9,
   "metadata": {},
   "outputs": [],
   "source": [
    "df.to_csv('model_data_final.csv')"
   ]
  },
  {
   "cell_type": "code",
   "execution_count": null,
   "metadata": {},
   "outputs": [],
   "source": []
  }
 ]
}