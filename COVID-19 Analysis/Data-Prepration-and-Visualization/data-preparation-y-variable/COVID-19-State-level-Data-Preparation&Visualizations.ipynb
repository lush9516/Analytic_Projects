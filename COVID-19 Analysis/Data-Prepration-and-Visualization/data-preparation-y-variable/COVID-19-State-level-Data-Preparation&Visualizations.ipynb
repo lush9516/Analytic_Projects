{
 "cells": [
  {
   "cell_type": "code",
   "execution_count": 238,
   "metadata": {},
   "outputs": [],
   "source": [
    "import pandas as pd\n",
    "import numpy as np\n",
    "import math\n",
    "from datetime import datetime\n",
    "import matplotlib.pyplot as plt"
   ]
  },
  {
   "cell_type": "markdown",
   "metadata": {},
   "source": [
    "# Retriving Dataset"
   ]
  },
  {
   "cell_type": "markdown",
   "metadata": {},
   "source": [
    "## US State Level data"
   ]
  },
  {
   "cell_type": "code",
   "execution_count": 241,
   "metadata": {},
   "outputs": [
    {
     "name": "stderr",
     "output_type": "stream",
     "text": [
      "/Users/lush/opt/anaconda3/lib/python3.7/site-packages/ipykernel_launcher.py:10: FutureWarning: Sorting because non-concatenation axis is not aligned. A future version\n",
      "of pandas will change to not sort by default.\n",
      "\n",
      "To accept the future behavior, pass 'sort=False'.\n",
      "\n",
      "To retain the current behavior and silence the warning, pass 'sort=True'.\n",
      "\n",
      "  # Remove the CWD from sys.path while we load stuff.\n"
     ]
    }
   ],
   "source": [
    "US_State = pd.DataFrame()\n",
    "for month in range(1,5):\n",
    "    for day in range(1,31):\n",
    "        month = str(month).zfill(2)\n",
    "        day = str(day).zfill(2)\n",
    "        try:\n",
    "            US_url = 'https://raw.githubusercontent.com/CSSEGISandData/COVID-19/master/csse_covid_19_data/csse_covid_19_daily_reports/' + month + '-' + day +'-2020.csv'\n",
    "            df_bin = pd.read_csv(US_url)\n",
    "            df_bin['Date'] = '2020-'+month+'-'+day\n",
    "            US_State = pd.concat([US_State, df_bin], ignore_index = True)\n",
    "        except:\n",
    "            continue"
   ]
  },
  {
   "cell_type": "code",
   "execution_count": 242,
   "metadata": {},
   "outputs": [
    {
     "data": {
      "text/html": [
       "<div>\n",
       "<style scoped>\n",
       "    .dataframe tbody tr th:only-of-type {\n",
       "        vertical-align: middle;\n",
       "    }\n",
       "\n",
       "    .dataframe tbody tr th {\n",
       "        vertical-align: top;\n",
       "    }\n",
       "\n",
       "    .dataframe thead th {\n",
       "        text-align: right;\n",
       "    }\n",
       "</style>\n",
       "<table border=\"1\" class=\"dataframe\">\n",
       "  <thead>\n",
       "    <tr style=\"text-align: right;\">\n",
       "      <th></th>\n",
       "      <th>Active</th>\n",
       "      <th>Admin2</th>\n",
       "      <th>Combined_Key</th>\n",
       "      <th>Confirmed</th>\n",
       "      <th>Country/Region</th>\n",
       "      <th>Country_Region</th>\n",
       "      <th>Date</th>\n",
       "      <th>Deaths</th>\n",
       "      <th>FIPS</th>\n",
       "      <th>Last Update</th>\n",
       "      <th>Last_Update</th>\n",
       "      <th>Lat</th>\n",
       "      <th>Latitude</th>\n",
       "      <th>Long_</th>\n",
       "      <th>Longitude</th>\n",
       "      <th>Province/State</th>\n",
       "      <th>Province_State</th>\n",
       "      <th>Recovered</th>\n",
       "    </tr>\n",
       "  </thead>\n",
       "  <tbody>\n",
       "    <tr>\n",
       "      <td>0</td>\n",
       "      <td>NaN</td>\n",
       "      <td>NaN</td>\n",
       "      <td>NaN</td>\n",
       "      <td>1.0</td>\n",
       "      <td>Mainland China</td>\n",
       "      <td>NaN</td>\n",
       "      <td>2020-01-22</td>\n",
       "      <td>NaN</td>\n",
       "      <td>NaN</td>\n",
       "      <td>1/22/2020 17:00</td>\n",
       "      <td>NaN</td>\n",
       "      <td>NaN</td>\n",
       "      <td>NaN</td>\n",
       "      <td>NaN</td>\n",
       "      <td>NaN</td>\n",
       "      <td>Anhui</td>\n",
       "      <td>NaN</td>\n",
       "      <td>NaN</td>\n",
       "    </tr>\n",
       "    <tr>\n",
       "      <td>1</td>\n",
       "      <td>NaN</td>\n",
       "      <td>NaN</td>\n",
       "      <td>NaN</td>\n",
       "      <td>14.0</td>\n",
       "      <td>Mainland China</td>\n",
       "      <td>NaN</td>\n",
       "      <td>2020-01-22</td>\n",
       "      <td>NaN</td>\n",
       "      <td>NaN</td>\n",
       "      <td>1/22/2020 17:00</td>\n",
       "      <td>NaN</td>\n",
       "      <td>NaN</td>\n",
       "      <td>NaN</td>\n",
       "      <td>NaN</td>\n",
       "      <td>NaN</td>\n",
       "      <td>Beijing</td>\n",
       "      <td>NaN</td>\n",
       "      <td>NaN</td>\n",
       "    </tr>\n",
       "    <tr>\n",
       "      <td>2</td>\n",
       "      <td>NaN</td>\n",
       "      <td>NaN</td>\n",
       "      <td>NaN</td>\n",
       "      <td>6.0</td>\n",
       "      <td>Mainland China</td>\n",
       "      <td>NaN</td>\n",
       "      <td>2020-01-22</td>\n",
       "      <td>NaN</td>\n",
       "      <td>NaN</td>\n",
       "      <td>1/22/2020 17:00</td>\n",
       "      <td>NaN</td>\n",
       "      <td>NaN</td>\n",
       "      <td>NaN</td>\n",
       "      <td>NaN</td>\n",
       "      <td>NaN</td>\n",
       "      <td>Chongqing</td>\n",
       "      <td>NaN</td>\n",
       "      <td>NaN</td>\n",
       "    </tr>\n",
       "  </tbody>\n",
       "</table>\n",
       "</div>"
      ],
      "text/plain": [
       "   Active Admin2 Combined_Key  Confirmed  Country/Region Country_Region  \\\n",
       "0     NaN    NaN          NaN        1.0  Mainland China            NaN   \n",
       "1     NaN    NaN          NaN       14.0  Mainland China            NaN   \n",
       "2     NaN    NaN          NaN        6.0  Mainland China            NaN   \n",
       "\n",
       "         Date  Deaths  FIPS      Last Update Last_Update  Lat  Latitude  \\\n",
       "0  2020-01-22     NaN   NaN  1/22/2020 17:00         NaN  NaN       NaN   \n",
       "1  2020-01-22     NaN   NaN  1/22/2020 17:00         NaN  NaN       NaN   \n",
       "2  2020-01-22     NaN   NaN  1/22/2020 17:00         NaN  NaN       NaN   \n",
       "\n",
       "   Long_  Longitude Province/State Province_State  Recovered  \n",
       "0    NaN        NaN          Anhui            NaN        NaN  \n",
       "1    NaN        NaN        Beijing            NaN        NaN  \n",
       "2    NaN        NaN      Chongqing            NaN        NaN  "
      ]
     },
     "execution_count": 242,
     "metadata": {},
     "output_type": "execute_result"
    }
   ],
   "source": [
    "US_State_copy = US_State.copy()\n",
    "US_State[(US_State['Country/Region'] == 'China') | (US_State['Country_Region'] == 'China') \\\n",
    "             |(US_State['Country/Region'] == 'Mainland China') | (US_State['Country_Region'] == 'Mainland China')].head(3)\n"
   ]
  },
  {
   "cell_type": "code",
   "execution_count": 243,
   "metadata": {},
   "outputs": [
    {
     "data": {
      "text/html": [
       "<div>\n",
       "<style scoped>\n",
       "    .dataframe tbody tr th:only-of-type {\n",
       "        vertical-align: middle;\n",
       "    }\n",
       "\n",
       "    .dataframe tbody tr th {\n",
       "        vertical-align: top;\n",
       "    }\n",
       "\n",
       "    .dataframe thead th {\n",
       "        text-align: right;\n",
       "    }\n",
       "</style>\n",
       "<table border=\"1\" class=\"dataframe\">\n",
       "  <thead>\n",
       "    <tr style=\"text-align: right;\">\n",
       "      <th></th>\n",
       "      <th>Active</th>\n",
       "      <th>Admin2</th>\n",
       "      <th>Combined_Key</th>\n",
       "      <th>Confirmed</th>\n",
       "      <th>Country/Region</th>\n",
       "      <th>Country_Region</th>\n",
       "      <th>Date</th>\n",
       "      <th>Deaths</th>\n",
       "      <th>FIPS</th>\n",
       "      <th>Last Update</th>\n",
       "      <th>Last_Update</th>\n",
       "      <th>Lat</th>\n",
       "      <th>Latitude</th>\n",
       "      <th>Long_</th>\n",
       "      <th>Longitude</th>\n",
       "      <th>Province/State</th>\n",
       "      <th>Province_State</th>\n",
       "      <th>Recovered</th>\n",
       "    </tr>\n",
       "  </thead>\n",
       "  <tbody>\n",
       "    <tr>\n",
       "      <td>0</td>\n",
       "      <td>NaN</td>\n",
       "      <td>NaN</td>\n",
       "      <td>NaN</td>\n",
       "      <td>1.0</td>\n",
       "      <td>Mainland China</td>\n",
       "      <td>NaN</td>\n",
       "      <td>2020-01-22</td>\n",
       "      <td>NaN</td>\n",
       "      <td>NaN</td>\n",
       "      <td>1/22/2020 17:00</td>\n",
       "      <td>NaN</td>\n",
       "      <td>NaN</td>\n",
       "      <td>NaN</td>\n",
       "      <td>NaN</td>\n",
       "      <td>NaN</td>\n",
       "      <td>Anhui</td>\n",
       "      <td>NaN</td>\n",
       "      <td>NaN</td>\n",
       "    </tr>\n",
       "    <tr>\n",
       "      <td>1</td>\n",
       "      <td>NaN</td>\n",
       "      <td>NaN</td>\n",
       "      <td>NaN</td>\n",
       "      <td>14.0</td>\n",
       "      <td>Mainland China</td>\n",
       "      <td>NaN</td>\n",
       "      <td>2020-01-22</td>\n",
       "      <td>NaN</td>\n",
       "      <td>NaN</td>\n",
       "      <td>1/22/2020 17:00</td>\n",
       "      <td>NaN</td>\n",
       "      <td>NaN</td>\n",
       "      <td>NaN</td>\n",
       "      <td>NaN</td>\n",
       "      <td>NaN</td>\n",
       "      <td>Beijing</td>\n",
       "      <td>NaN</td>\n",
       "      <td>NaN</td>\n",
       "    </tr>\n",
       "    <tr>\n",
       "      <td>2</td>\n",
       "      <td>NaN</td>\n",
       "      <td>NaN</td>\n",
       "      <td>NaN</td>\n",
       "      <td>6.0</td>\n",
       "      <td>Mainland China</td>\n",
       "      <td>NaN</td>\n",
       "      <td>2020-01-22</td>\n",
       "      <td>NaN</td>\n",
       "      <td>NaN</td>\n",
       "      <td>1/22/2020 17:00</td>\n",
       "      <td>NaN</td>\n",
       "      <td>NaN</td>\n",
       "      <td>NaN</td>\n",
       "      <td>NaN</td>\n",
       "      <td>NaN</td>\n",
       "      <td>Chongqing</td>\n",
       "      <td>NaN</td>\n",
       "      <td>NaN</td>\n",
       "    </tr>\n",
       "  </tbody>\n",
       "</table>\n",
       "</div>"
      ],
      "text/plain": [
       "   Active Admin2 Combined_Key  Confirmed  Country/Region Country_Region  \\\n",
       "0     NaN    NaN          NaN        1.0  Mainland China            NaN   \n",
       "1     NaN    NaN          NaN       14.0  Mainland China            NaN   \n",
       "2     NaN    NaN          NaN        6.0  Mainland China            NaN   \n",
       "\n",
       "         Date  Deaths  FIPS      Last Update Last_Update  Lat  Latitude  \\\n",
       "0  2020-01-22     NaN   NaN  1/22/2020 17:00         NaN  NaN       NaN   \n",
       "1  2020-01-22     NaN   NaN  1/22/2020 17:00         NaN  NaN       NaN   \n",
       "2  2020-01-22     NaN   NaN  1/22/2020 17:00         NaN  NaN       NaN   \n",
       "\n",
       "   Long_  Longitude Province/State Province_State  Recovered  \n",
       "0    NaN        NaN          Anhui            NaN        NaN  \n",
       "1    NaN        NaN        Beijing            NaN        NaN  \n",
       "2    NaN        NaN      Chongqing            NaN        NaN  "
      ]
     },
     "execution_count": 243,
     "metadata": {},
     "output_type": "execute_result"
    }
   ],
   "source": [
    "US_State[(US_State['Country/Region'] == 'China') | (US_State['Country_Region'] == 'China') \\\n",
    "             |(US_State['Country/Region'] == 'Mainland China') | (US_State['Country_Region'] == 'Mainland China')].head(3)\n"
   ]
  },
  {
   "cell_type": "code",
   "execution_count": 244,
   "metadata": {},
   "outputs": [],
   "source": [
    "US_State_copy = US_State_copy[(US_State_copy['Country/Region'] == 'US') | (US_State_copy['Country_Region'] == 'US')]\n",
    "US_State_copy = US_State_copy.reset_index(drop = True)\n",
    "China_Province_copy = US_State[(US_State['Country/Region'] == 'China') | (US_State['Country_Region'] == 'China') \\\n",
    "             |(US_State['Country/Region'] == 'Mainland China') | (US_State['Country_Region'] == 'Mainland China')]\n",
    "\n",
    "China_Province_copy = China_Province_copy.reset_index(drop = True)\n"
   ]
  },
  {
   "cell_type": "markdown",
   "metadata": {},
   "source": [
    "# Data Cleaning"
   ]
  },
  {
   "cell_type": "code",
   "execution_count": 245,
   "metadata": {},
   "outputs": [],
   "source": [
    "US_State_copy = US_State_copy.drop(['Active','Admin2','Combined_Key','FIPS'],1)\n",
    "China_Province_copy = China_Province_copy.drop(['Active','Admin2','Combined_Key','FIPS'],1)"
   ]
  },
  {
   "cell_type": "markdown",
   "metadata": {},
   "source": [
    "## Time"
   ]
  },
  {
   "cell_type": "code",
   "execution_count": 246,
   "metadata": {},
   "outputs": [],
   "source": [
    "# Function for stripping column Last Update\n",
    "def strip_specific_time_1(date_column):\n",
    "    for date in range(len(date_column)):\n",
    "        if type(date_column[date]) == str:\n",
    "            if len(date_column[date]) == 19:\n",
    "                dt = str(date_column[date]).split('T')[0]\n",
    "                date_column[date] = dt\n",
    "            elif str(date_column[date]).split(' ')[0].split('/')[2] == '2020':\n",
    "                dt = str(date_column[date]).split(' ')[0].split('/')\n",
    "                date_column[date] = str(dt[2])+'-'+str(dt[0].zfill(2))+'-'+str(dt[1].zfill(2))\n",
    "            else:\n",
    "                dt = str(date_column[date]).split(' ')[0].split('/')\n",
    "                date_column[date] = str(dt[2])+'20-'+str(dt[0].zfill(2))+'-'+str(dt[1].zfill(2))\n",
    "        else:\n",
    "            continue "
   ]
  },
  {
   "cell_type": "code",
   "execution_count": 247,
   "metadata": {},
   "outputs": [],
   "source": [
    "# Function for stripping column Last_Update\n",
    "def strip_specific_time_2(date_column):\n",
    "    for date in range(len(date_column)):\n",
    "        if type(date_column[date]) == str:\n",
    "            try: \n",
    "                dt = datetime.strptime(str(date_column[date]), '%Y-%m-%d %H:%M:%S')\n",
    "                date_column[date] = str(dt.year)+'-'+str(dt.month).zfill(2)+'-'+str(dt.day).zfill(2)\n",
    "            except:\n",
    "                dt = str(date_column[date]).split(' ')[0].split('/')\n",
    "                date_column[date] = str(dt[2])+'20-'+str(dt[0].zfill(2))+'-'+str(dt[1].zfill(2))\n",
    "        else:\n",
    "            continue"
   ]
  },
  {
   "cell_type": "code",
   "execution_count": 248,
   "metadata": {},
   "outputs": [],
   "source": [
    "# Function for combining two columns\n",
    "def combine_two_columns(df,column1,column2):\n",
    "    for row_index in range(len(df[column1])):\n",
    "        if pd.Series(df[column1][row_index]).isnull()[0]:\n",
    "            df[column1][row_index] = df[column2][row_index]\n",
    "    df.drop(column2, axis = 1, inplace = True)\n",
    "    return df"
   ]
  },
  {
   "cell_type": "code",
   "execution_count": 249,
   "metadata": {},
   "outputs": [
    {
     "name": "stderr",
     "output_type": "stream",
     "text": [
      "/Users/lush/opt/anaconda3/lib/python3.7/site-packages/ipykernel_launcher.py:10: SettingWithCopyWarning: \n",
      "A value is trying to be set on a copy of a slice from a DataFrame\n",
      "\n",
      "See the caveats in the documentation: http://pandas.pydata.org/pandas-docs/stable/user_guide/indexing.html#returning-a-view-versus-a-copy\n",
      "  # Remove the CWD from sys.path while we load stuff.\n",
      "/Users/lush/opt/anaconda3/lib/python3.7/site-packages/ipykernel_launcher.py:7: SettingWithCopyWarning: \n",
      "A value is trying to be set on a copy of a slice from a DataFrame\n",
      "\n",
      "See the caveats in the documentation: http://pandas.pydata.org/pandas-docs/stable/user_guide/indexing.html#returning-a-view-versus-a-copy\n",
      "  import sys\n",
      "/Users/lush/opt/anaconda3/lib/python3.7/site-packages/ipykernel_launcher.py:13: SettingWithCopyWarning: \n",
      "A value is trying to be set on a copy of a slice from a DataFrame\n",
      "\n",
      "See the caveats in the documentation: http://pandas.pydata.org/pandas-docs/stable/user_guide/indexing.html#returning-a-view-versus-a-copy\n",
      "  del sys.path[0]\n",
      "/Users/lush/opt/anaconda3/lib/python3.7/site-packages/ipykernel_launcher.py:5: SettingWithCopyWarning: \n",
      "A value is trying to be set on a copy of a slice from a DataFrame\n",
      "\n",
      "See the caveats in the documentation: http://pandas.pydata.org/pandas-docs/stable/user_guide/indexing.html#returning-a-view-versus-a-copy\n",
      "  \"\"\"\n"
     ]
    }
   ],
   "source": [
    "# Combine the Date Columns\n",
    "strip_specific_time_2(US_State_copy['Last_Update'])\n",
    "strip_specific_time_1(US_State_copy['Last Update'])\n",
    "US_State_copy = combine_two_columns(US_State_copy,\"Last_Update\",\"Last Update\")\n",
    "\n",
    "strip_specific_time_2(China_Province_copy['Last_Update'])\n",
    "strip_specific_time_1(China_Province_copy['Last Update'])\n",
    "China_Province_copy = combine_two_columns(China_Province_copy,\"Last_Update\",\"Last Update\")\n",
    "\n"
   ]
  },
  {
   "cell_type": "code",
   "execution_count": 250,
   "metadata": {},
   "outputs": [],
   "source": [
    "US_State_copy = US_State_copy[US_State_copy['Last_Update'].isnull() == False]\n",
    "US_State_copy = US_State_copy.reset_index(drop = True)\n",
    "\n",
    "China_Province_copy = China_Province_copy[China_Province_copy['Last_Update'].isnull() == False]\n",
    "China_Province_copy = China_Province_copy.reset_index(drop = True)\n"
   ]
  },
  {
   "cell_type": "markdown",
   "metadata": {},
   "source": [
    "## Country/Region, Province/State, Latitude, Longitude"
   ]
  },
  {
   "cell_type": "code",
   "execution_count": 251,
   "metadata": {},
   "outputs": [
    {
     "name": "stderr",
     "output_type": "stream",
     "text": [
      "/Users/lush/opt/anaconda3/lib/python3.7/site-packages/ipykernel_launcher.py:5: SettingWithCopyWarning: \n",
      "A value is trying to be set on a copy of a slice from a DataFrame\n",
      "\n",
      "See the caveats in the documentation: http://pandas.pydata.org/pandas-docs/stable/user_guide/indexing.html#returning-a-view-versus-a-copy\n",
      "  \"\"\"\n"
     ]
    }
   ],
   "source": [
    "US_State_copy = combine_two_columns(US_State_copy,\"Country_Region\",\"Country/Region\")\n",
    "\n",
    "China_Province_copy = combine_two_columns(China_Province_copy,\"Country_Region\",\"Country/Region\")\n",
    "\n"
   ]
  },
  {
   "cell_type": "code",
   "execution_count": 252,
   "metadata": {},
   "outputs": [
    {
     "data": {
      "text/html": [
       "<div>\n",
       "<style scoped>\n",
       "    .dataframe tbody tr th:only-of-type {\n",
       "        vertical-align: middle;\n",
       "    }\n",
       "\n",
       "    .dataframe tbody tr th {\n",
       "        vertical-align: top;\n",
       "    }\n",
       "\n",
       "    .dataframe thead th {\n",
       "        text-align: right;\n",
       "    }\n",
       "</style>\n",
       "<table border=\"1\" class=\"dataframe\">\n",
       "  <thead>\n",
       "    <tr style=\"text-align: right;\">\n",
       "      <th></th>\n",
       "      <th>Confirmed</th>\n",
       "      <th>Country_Region</th>\n",
       "      <th>Date</th>\n",
       "      <th>Deaths</th>\n",
       "      <th>Last_Update</th>\n",
       "      <th>Lat</th>\n",
       "      <th>Latitude</th>\n",
       "      <th>Long_</th>\n",
       "      <th>Longitude</th>\n",
       "      <th>Province/State</th>\n",
       "      <th>Province_State</th>\n",
       "      <th>Recovered</th>\n",
       "    </tr>\n",
       "  </thead>\n",
       "  <tbody>\n",
       "    <tr>\n",
       "      <td>0</td>\n",
       "      <td>1.0</td>\n",
       "      <td>US</td>\n",
       "      <td>2020-01-22</td>\n",
       "      <td>NaN</td>\n",
       "      <td>2020-01-22</td>\n",
       "      <td>NaN</td>\n",
       "      <td>NaN</td>\n",
       "      <td>NaN</td>\n",
       "      <td>NaN</td>\n",
       "      <td>Washington</td>\n",
       "      <td>NaN</td>\n",
       "      <td>NaN</td>\n",
       "    </tr>\n",
       "    <tr>\n",
       "      <td>1</td>\n",
       "      <td>1.0</td>\n",
       "      <td>US</td>\n",
       "      <td>2020-01-23</td>\n",
       "      <td>NaN</td>\n",
       "      <td>2020-01-23</td>\n",
       "      <td>NaN</td>\n",
       "      <td>NaN</td>\n",
       "      <td>NaN</td>\n",
       "      <td>NaN</td>\n",
       "      <td>Washington</td>\n",
       "      <td>NaN</td>\n",
       "      <td>NaN</td>\n",
       "    </tr>\n",
       "    <tr>\n",
       "      <td>2</td>\n",
       "      <td>1.0</td>\n",
       "      <td>US</td>\n",
       "      <td>2020-01-24</td>\n",
       "      <td>NaN</td>\n",
       "      <td>2020-01-24</td>\n",
       "      <td>NaN</td>\n",
       "      <td>NaN</td>\n",
       "      <td>NaN</td>\n",
       "      <td>NaN</td>\n",
       "      <td>Washington</td>\n",
       "      <td>NaN</td>\n",
       "      <td>NaN</td>\n",
       "    </tr>\n",
       "    <tr>\n",
       "      <td>3</td>\n",
       "      <td>1.0</td>\n",
       "      <td>US</td>\n",
       "      <td>2020-01-24</td>\n",
       "      <td>NaN</td>\n",
       "      <td>2020-01-24</td>\n",
       "      <td>NaN</td>\n",
       "      <td>NaN</td>\n",
       "      <td>NaN</td>\n",
       "      <td>NaN</td>\n",
       "      <td>Chicago</td>\n",
       "      <td>NaN</td>\n",
       "      <td>NaN</td>\n",
       "    </tr>\n",
       "    <tr>\n",
       "      <td>4</td>\n",
       "      <td>1.0</td>\n",
       "      <td>US</td>\n",
       "      <td>2020-01-25</td>\n",
       "      <td>NaN</td>\n",
       "      <td>2020-01-25</td>\n",
       "      <td>NaN</td>\n",
       "      <td>NaN</td>\n",
       "      <td>NaN</td>\n",
       "      <td>NaN</td>\n",
       "      <td>Washington</td>\n",
       "      <td>NaN</td>\n",
       "      <td>NaN</td>\n",
       "    </tr>\n",
       "    <tr>\n",
       "      <td>...</td>\n",
       "      <td>...</td>\n",
       "      <td>...</td>\n",
       "      <td>...</td>\n",
       "      <td>...</td>\n",
       "      <td>...</td>\n",
       "      <td>...</td>\n",
       "      <td>...</td>\n",
       "      <td>...</td>\n",
       "      <td>...</td>\n",
       "      <td>...</td>\n",
       "      <td>...</td>\n",
       "      <td>...</td>\n",
       "    </tr>\n",
       "    <tr>\n",
       "      <td>1551</td>\n",
       "      <td>15.0</td>\n",
       "      <td>US</td>\n",
       "      <td>2020-03-21</td>\n",
       "      <td>0.0</td>\n",
       "      <td>2020-03-21</td>\n",
       "      <td>NaN</td>\n",
       "      <td>13.4443</td>\n",
       "      <td>NaN</td>\n",
       "      <td>144.7937</td>\n",
       "      <td>Guam</td>\n",
       "      <td>NaN</td>\n",
       "      <td>0.0</td>\n",
       "    </tr>\n",
       "    <tr>\n",
       "      <td>1552</td>\n",
       "      <td>14.0</td>\n",
       "      <td>US</td>\n",
       "      <td>2020-03-21</td>\n",
       "      <td>1.0</td>\n",
       "      <td>2020-03-20</td>\n",
       "      <td>NaN</td>\n",
       "      <td>44.2998</td>\n",
       "      <td>NaN</td>\n",
       "      <td>-99.4388</td>\n",
       "      <td>South Dakota</td>\n",
       "      <td>NaN</td>\n",
       "      <td>0.0</td>\n",
       "    </tr>\n",
       "    <tr>\n",
       "      <td>1553</td>\n",
       "      <td>8.0</td>\n",
       "      <td>US</td>\n",
       "      <td>2020-03-21</td>\n",
       "      <td>0.0</td>\n",
       "      <td>2020-03-21</td>\n",
       "      <td>NaN</td>\n",
       "      <td>38.4912</td>\n",
       "      <td>NaN</td>\n",
       "      <td>-80.9545</td>\n",
       "      <td>West Virginia</td>\n",
       "      <td>NaN</td>\n",
       "      <td>0.0</td>\n",
       "    </tr>\n",
       "    <tr>\n",
       "      <td>1554</td>\n",
       "      <td>6.0</td>\n",
       "      <td>US</td>\n",
       "      <td>2020-03-21</td>\n",
       "      <td>0.0</td>\n",
       "      <td>2020-03-21</td>\n",
       "      <td>NaN</td>\n",
       "      <td>18.3358</td>\n",
       "      <td>NaN</td>\n",
       "      <td>-64.8963</td>\n",
       "      <td>United States Virgin Islands</td>\n",
       "      <td>NaN</td>\n",
       "      <td>0.0</td>\n",
       "    </tr>\n",
       "    <tr>\n",
       "      <td>1555</td>\n",
       "      <td>1.0</td>\n",
       "      <td>US</td>\n",
       "      <td>2020-03-21</td>\n",
       "      <td>0.0</td>\n",
       "      <td>2020-03-21</td>\n",
       "      <td>NaN</td>\n",
       "      <td>37.0902</td>\n",
       "      <td>NaN</td>\n",
       "      <td>-95.7129</td>\n",
       "      <td>US</td>\n",
       "      <td>NaN</td>\n",
       "      <td>171.0</td>\n",
       "    </tr>\n",
       "  </tbody>\n",
       "</table>\n",
       "<p>1556 rows × 12 columns</p>\n",
       "</div>"
      ],
      "text/plain": [
       "      Confirmed Country_Region        Date  Deaths Last_Update  Lat  Latitude  \\\n",
       "0           1.0             US  2020-01-22     NaN  2020-01-22  NaN       NaN   \n",
       "1           1.0             US  2020-01-23     NaN  2020-01-23  NaN       NaN   \n",
       "2           1.0             US  2020-01-24     NaN  2020-01-24  NaN       NaN   \n",
       "3           1.0             US  2020-01-24     NaN  2020-01-24  NaN       NaN   \n",
       "4           1.0             US  2020-01-25     NaN  2020-01-25  NaN       NaN   \n",
       "...         ...            ...         ...     ...         ...  ...       ...   \n",
       "1551       15.0             US  2020-03-21     0.0  2020-03-21  NaN   13.4443   \n",
       "1552       14.0             US  2020-03-21     1.0  2020-03-20  NaN   44.2998   \n",
       "1553        8.0             US  2020-03-21     0.0  2020-03-21  NaN   38.4912   \n",
       "1554        6.0             US  2020-03-21     0.0  2020-03-21  NaN   18.3358   \n",
       "1555        1.0             US  2020-03-21     0.0  2020-03-21  NaN   37.0902   \n",
       "\n",
       "      Long_  Longitude                Province/State Province_State  Recovered  \n",
       "0       NaN        NaN                    Washington            NaN        NaN  \n",
       "1       NaN        NaN                    Washington            NaN        NaN  \n",
       "2       NaN        NaN                    Washington            NaN        NaN  \n",
       "3       NaN        NaN                       Chicago            NaN        NaN  \n",
       "4       NaN        NaN                    Washington            NaN        NaN  \n",
       "...     ...        ...                           ...            ...        ...  \n",
       "1551    NaN   144.7937                          Guam            NaN        0.0  \n",
       "1552    NaN   -99.4388                  South Dakota            NaN        0.0  \n",
       "1553    NaN   -80.9545                 West Virginia            NaN        0.0  \n",
       "1554    NaN   -64.8963  United States Virgin Islands            NaN        0.0  \n",
       "1555    NaN   -95.7129                            US            NaN      171.0  \n",
       "\n",
       "[1556 rows x 12 columns]"
      ]
     },
     "execution_count": 252,
     "metadata": {},
     "output_type": "execute_result"
    }
   ],
   "source": [
    "# The rest nulls are data for one country, so don't have province/state\n",
    "US_State_copy[US_State_copy['Province_State'].isnull()]"
   ]
  },
  {
   "cell_type": "code",
   "execution_count": 253,
   "metadata": {},
   "outputs": [],
   "source": [
    "def combine_same_columns(col1, col2):\n",
    "    for i in range(len(col1)):\n",
    "        if type(col1[i]) == str:\n",
    "            col2[i] = col1[i]"
   ]
  },
  {
   "cell_type": "code",
   "execution_count": 254,
   "metadata": {},
   "outputs": [
    {
     "name": "stderr",
     "output_type": "stream",
     "text": [
      "/Users/lush/opt/anaconda3/lib/python3.7/site-packages/ipykernel_launcher.py:4: SettingWithCopyWarning: \n",
      "A value is trying to be set on a copy of a slice from a DataFrame\n",
      "\n",
      "See the caveats in the documentation: http://pandas.pydata.org/pandas-docs/stable/user_guide/indexing.html#returning-a-view-versus-a-copy\n",
      "  after removing the cwd from sys.path.\n"
     ]
    }
   ],
   "source": [
    "combine_same_columns(US_State_copy['Province/State'],US_State_copy['Province_State'])\n",
    "combine_same_columns(US_State_copy['Lat'],US_State_copy['Latitude'])\n",
    "combine_same_columns(US_State_copy['Long_'],US_State_copy['Longitude'])\n",
    "\n",
    "combine_same_columns(China_Province_copy['Province/State'],China_Province_copy['Province_State'])\n",
    "combine_same_columns(China_Province_copy['Lat'],China_Province_copy['Latitude'])\n",
    "combine_same_columns(China_Province_copy['Long_'],China_Province_copy['Longitude'])"
   ]
  },
  {
   "cell_type": "code",
   "execution_count": 255,
   "metadata": {},
   "outputs": [],
   "source": [
    "# Since we don't need Latitude and Longitude in this analysis, we directly delete these two columns\n",
    "US_State_copy = US_State_copy.drop(['Province/State','Lat','Long_','Latitude','Longitude'], 1)\n",
    "\n",
    "China_Province_copy = China_Province_copy.drop(['Province/State','Lat','Long_','Latitude','Longitude'], 1)\n"
   ]
  },
  {
   "cell_type": "code",
   "execution_count": 256,
   "metadata": {},
   "outputs": [],
   "source": [
    "US_State_copy = US_State_copy[US_State_copy['Country_Region'].isnull() == False]\n",
    "\n",
    "China_Province_copy = China_Province_copy[China_Province_copy['Country_Region'].isnull() == False]\n"
   ]
  },
  {
   "cell_type": "code",
   "execution_count": 257,
   "metadata": {},
   "outputs": [],
   "source": [
    "# Now all Nan we have is for Deaths and recovered, so we can fill using 0\n",
    "US_State_copy = US_State_copy.fillna(0)\n",
    "China_Province_copy = China_Province_copy.fillna(0)"
   ]
  },
  {
   "cell_type": "code",
   "execution_count": 258,
   "metadata": {},
   "outputs": [
    {
     "name": "stdout",
     "output_type": "stream",
     "text": [
      "<class 'pandas.core.frame.DataFrame'>\n",
      "Int64Index: 63264 entries, 0 to 63263\n",
      "Data columns (total 7 columns):\n",
      "Confirmed         63264 non-null float64\n",
      "Country_Region    63264 non-null object\n",
      "Date              63264 non-null object\n",
      "Deaths            63264 non-null float64\n",
      "Last_Update       63264 non-null object\n",
      "Province_State    63264 non-null object\n",
      "Recovered         63264 non-null float64\n",
      "dtypes: float64(3), object(4)\n",
      "memory usage: 3.9+ MB\n"
     ]
    }
   ],
   "source": [
    "US_State_copy.info()"
   ]
  },
  {
   "cell_type": "code",
   "execution_count": 259,
   "metadata": {},
   "outputs": [
    {
     "name": "stdout",
     "output_type": "stream",
     "text": [
      "<class 'pandas.core.frame.DataFrame'>\n",
      "Int64Index: 2575 entries, 0 to 2574\n",
      "Data columns (total 7 columns):\n",
      "Confirmed         2575 non-null float64\n",
      "Country_Region    2575 non-null object\n",
      "Date              2575 non-null object\n",
      "Deaths            2575 non-null float64\n",
      "Last_Update       2575 non-null object\n",
      "Province_State    2575 non-null object\n",
      "Recovered         2575 non-null float64\n",
      "dtypes: float64(3), object(4)\n",
      "memory usage: 160.9+ KB\n"
     ]
    }
   ],
   "source": [
    "China_Province_copy.info()"
   ]
  },
  {
   "cell_type": "code",
   "execution_count": 260,
   "metadata": {},
   "outputs": [
    {
     "data": {
      "text/html": [
       "<div>\n",
       "<style scoped>\n",
       "    .dataframe tbody tr th:only-of-type {\n",
       "        vertical-align: middle;\n",
       "    }\n",
       "\n",
       "    .dataframe tbody tr th {\n",
       "        vertical-align: top;\n",
       "    }\n",
       "\n",
       "    .dataframe thead th {\n",
       "        text-align: right;\n",
       "    }\n",
       "</style>\n",
       "<table border=\"1\" class=\"dataframe\">\n",
       "  <thead>\n",
       "    <tr style=\"text-align: right;\">\n",
       "      <th></th>\n",
       "      <th>Confirmed</th>\n",
       "      <th>Country_Region</th>\n",
       "      <th>Date</th>\n",
       "      <th>Deaths</th>\n",
       "      <th>Last_Update</th>\n",
       "      <th>Province_State</th>\n",
       "      <th>Recovered</th>\n",
       "    </tr>\n",
       "  </thead>\n",
       "  <tbody>\n",
       "    <tr>\n",
       "      <td>0</td>\n",
       "      <td>1.0</td>\n",
       "      <td>US</td>\n",
       "      <td>2020-01-22</td>\n",
       "      <td>0.0</td>\n",
       "      <td>2020-01-22</td>\n",
       "      <td>Washington</td>\n",
       "      <td>0.0</td>\n",
       "    </tr>\n",
       "    <tr>\n",
       "      <td>1</td>\n",
       "      <td>1.0</td>\n",
       "      <td>US</td>\n",
       "      <td>2020-01-23</td>\n",
       "      <td>0.0</td>\n",
       "      <td>2020-01-23</td>\n",
       "      <td>Washington</td>\n",
       "      <td>0.0</td>\n",
       "    </tr>\n",
       "    <tr>\n",
       "      <td>2</td>\n",
       "      <td>1.0</td>\n",
       "      <td>US</td>\n",
       "      <td>2020-01-24</td>\n",
       "      <td>0.0</td>\n",
       "      <td>2020-01-24</td>\n",
       "      <td>Washington</td>\n",
       "      <td>0.0</td>\n",
       "    </tr>\n",
       "  </tbody>\n",
       "</table>\n",
       "</div>"
      ],
      "text/plain": [
       "   Confirmed Country_Region        Date  Deaths Last_Update Province_State  \\\n",
       "0        1.0             US  2020-01-22     0.0  2020-01-22     Washington   \n",
       "1        1.0             US  2020-01-23     0.0  2020-01-23     Washington   \n",
       "2        1.0             US  2020-01-24     0.0  2020-01-24     Washington   \n",
       "\n",
       "   Recovered  \n",
       "0        0.0  \n",
       "1        0.0  \n",
       "2        0.0  "
      ]
     },
     "execution_count": 260,
     "metadata": {},
     "output_type": "execute_result"
    }
   ],
   "source": [
    "US_State_copy.head(3)"
   ]
  },
  {
   "cell_type": "code",
   "execution_count": 261,
   "metadata": {},
   "outputs": [],
   "source": [
    "# Extract the confirmed, deaths and recovered cases\n",
    "dates = df_confirmed.columns.values.tolist()[4:]\n",
    "df_confirmed = pd.melt(df_confirmed, id_vars=['Province/State','Country/Region','Lat','Long'], value_vars= dates)\n",
    "df_deaths = pd.melt(df_deaths, id_vars=['Province/State','Country/Region','Lat','Long'], value_vars= dates)\n",
    "df_recovered = pd.melt(df_recovered, id_vars=['Province/State','Country/Region','Lat','Long'], value_vars= dates)\n"
   ]
  },
  {
   "cell_type": "code",
   "execution_count": 262,
   "metadata": {},
   "outputs": [],
   "source": [
    "# Rename the Columns\n",
    "df_confirmed = df_confirmed.rename(columns={'Country/Region':'Country_Region','Province/State':'Province_State','variable': 'Date','value':'Confirmed'})\n",
    "df_deaths = df_deaths.rename(columns={'Country/Region':'Country_Region','Province/State':'Province_State','variable': 'Date','value':'Deaths'})\n",
    "df_recovered = df_recovered.rename(columns={'Country/Region':'Country_Region','Province/State':'Province_State','variable': 'Date','value':'Recovered'})\n"
   ]
  },
  {
   "cell_type": "code",
   "execution_count": 263,
   "metadata": {},
   "outputs": [],
   "source": [
    "# Get the information for US\n",
    "df_US_confirmed = df_confirmed[df_confirmed[\"Country_Region\"] == \"US\"].iloc[:,-2:]\n",
    "df_US_deaths = df_deaths[df_deaths[\"Country_Region\"] == \"US\"].iloc[:,-2:]\n",
    "df_US_recovered = df_recovered[df_recovered[\"Country_Region\"] == \"US\"].iloc[:,-2:]"
   ]
  },
  {
   "cell_type": "markdown",
   "metadata": {},
   "source": [
    "# State_Province-level Analysis"
   ]
  },
  {
   "cell_type": "code",
   "execution_count": 264,
   "metadata": {},
   "outputs": [
    {
     "data": {
      "text/html": [
       "<div>\n",
       "<style scoped>\n",
       "    .dataframe tbody tr th:only-of-type {\n",
       "        vertical-align: middle;\n",
       "    }\n",
       "\n",
       "    .dataframe tbody tr th {\n",
       "        vertical-align: top;\n",
       "    }\n",
       "\n",
       "    .dataframe thead th {\n",
       "        text-align: right;\n",
       "    }\n",
       "</style>\n",
       "<table border=\"1\" class=\"dataframe\">\n",
       "  <thead>\n",
       "    <tr style=\"text-align: right;\">\n",
       "      <th></th>\n",
       "      <th>Confirmed</th>\n",
       "      <th>Country_Region</th>\n",
       "      <th>Date</th>\n",
       "      <th>Deaths</th>\n",
       "      <th>Last_Update</th>\n",
       "      <th>Province_State</th>\n",
       "      <th>Recovered</th>\n",
       "    </tr>\n",
       "  </thead>\n",
       "  <tbody>\n",
       "    <tr>\n",
       "      <td>12</td>\n",
       "      <td>444.0</td>\n",
       "      <td>Mainland China</td>\n",
       "      <td>2020-01-22</td>\n",
       "      <td>17.0</td>\n",
       "      <td>2020-01-22</td>\n",
       "      <td>Hubei</td>\n",
       "      <td>28.0</td>\n",
       "    </tr>\n",
       "    <tr>\n",
       "      <td>43</td>\n",
       "      <td>444.0</td>\n",
       "      <td>Mainland China</td>\n",
       "      <td>2020-01-23</td>\n",
       "      <td>17.0</td>\n",
       "      <td>2020-01-23</td>\n",
       "      <td>Hubei</td>\n",
       "      <td>28.0</td>\n",
       "    </tr>\n",
       "    <tr>\n",
       "      <td>62</td>\n",
       "      <td>549.0</td>\n",
       "      <td>Mainland China</td>\n",
       "      <td>2020-01-24</td>\n",
       "      <td>24.0</td>\n",
       "      <td>2020-01-24</td>\n",
       "      <td>Hubei</td>\n",
       "      <td>31.0</td>\n",
       "    </tr>\n",
       "    <tr>\n",
       "      <td>92</td>\n",
       "      <td>761.0</td>\n",
       "      <td>Mainland China</td>\n",
       "      <td>2020-01-25</td>\n",
       "      <td>40.0</td>\n",
       "      <td>2020-01-25</td>\n",
       "      <td>Hubei</td>\n",
       "      <td>32.0</td>\n",
       "    </tr>\n",
       "    <tr>\n",
       "      <td>122</td>\n",
       "      <td>1058.0</td>\n",
       "      <td>Mainland China</td>\n",
       "      <td>2020-01-26</td>\n",
       "      <td>52.0</td>\n",
       "      <td>2020-01-26</td>\n",
       "      <td>Hubei</td>\n",
       "      <td>42.0</td>\n",
       "    </tr>\n",
       "    <tr>\n",
       "      <td>152</td>\n",
       "      <td>1423.0</td>\n",
       "      <td>Mainland China</td>\n",
       "      <td>2020-01-27</td>\n",
       "      <td>76.0</td>\n",
       "      <td>2020-01-27</td>\n",
       "      <td>Hubei</td>\n",
       "      <td>45.0</td>\n",
       "    </tr>\n",
       "    <tr>\n",
       "      <td>182</td>\n",
       "      <td>3554.0</td>\n",
       "      <td>Mainland China</td>\n",
       "      <td>2020-01-28</td>\n",
       "      <td>125.0</td>\n",
       "      <td>2020-01-28</td>\n",
       "      <td>Hubei</td>\n",
       "      <td>80.0</td>\n",
       "    </tr>\n",
       "    <tr>\n",
       "      <td>212</td>\n",
       "      <td>3554.0</td>\n",
       "      <td>Mainland China</td>\n",
       "      <td>2020-01-29</td>\n",
       "      <td>125.0</td>\n",
       "      <td>2020-01-29</td>\n",
       "      <td>Hubei</td>\n",
       "      <td>88.0</td>\n",
       "    </tr>\n",
       "    <tr>\n",
       "      <td>242</td>\n",
       "      <td>4903.0</td>\n",
       "      <td>Mainland China</td>\n",
       "      <td>2020-01-30</td>\n",
       "      <td>162.0</td>\n",
       "      <td>2020-01-30</td>\n",
       "      <td>Hubei</td>\n",
       "      <td>90.0</td>\n",
       "    </tr>\n",
       "    <tr>\n",
       "      <td>273</td>\n",
       "      <td>7153.0</td>\n",
       "      <td>Mainland China</td>\n",
       "      <td>2020-02-01</td>\n",
       "      <td>249.0</td>\n",
       "      <td>2020-02-01</td>\n",
       "      <td>Hubei</td>\n",
       "      <td>168.0</td>\n",
       "    </tr>\n",
       "  </tbody>\n",
       "</table>\n",
       "</div>"
      ],
      "text/plain": [
       "     Confirmed  Country_Region        Date  Deaths Last_Update Province_State  \\\n",
       "12       444.0  Mainland China  2020-01-22    17.0  2020-01-22          Hubei   \n",
       "43       444.0  Mainland China  2020-01-23    17.0  2020-01-23          Hubei   \n",
       "62       549.0  Mainland China  2020-01-24    24.0  2020-01-24          Hubei   \n",
       "92       761.0  Mainland China  2020-01-25    40.0  2020-01-25          Hubei   \n",
       "122     1058.0  Mainland China  2020-01-26    52.0  2020-01-26          Hubei   \n",
       "152     1423.0  Mainland China  2020-01-27    76.0  2020-01-27          Hubei   \n",
       "182     3554.0  Mainland China  2020-01-28   125.0  2020-01-28          Hubei   \n",
       "212     3554.0  Mainland China  2020-01-29   125.0  2020-01-29          Hubei   \n",
       "242     4903.0  Mainland China  2020-01-30   162.0  2020-01-30          Hubei   \n",
       "273     7153.0  Mainland China  2020-02-01   249.0  2020-02-01          Hubei   \n",
       "\n",
       "     Recovered  \n",
       "12        28.0  \n",
       "43        28.0  \n",
       "62        31.0  \n",
       "92        32.0  \n",
       "122       42.0  \n",
       "152       45.0  \n",
       "182       80.0  \n",
       "212       88.0  \n",
       "242       90.0  \n",
       "273      168.0  "
      ]
     },
     "execution_count": 264,
     "metadata": {},
     "output_type": "execute_result"
    }
   ],
   "source": [
    "# Get data for Hubei Province\n",
    "Hubei = China_Province_copy[China_Province_copy[\"Province_State\"] == \"Hubei\"]\n",
    "Hubei.head(10)"
   ]
  },
  {
   "cell_type": "code",
   "execution_count": 265,
   "metadata": {},
   "outputs": [
    {
     "data": {
      "text/html": [
       "<div>\n",
       "<style scoped>\n",
       "    .dataframe tbody tr th:only-of-type {\n",
       "        vertical-align: middle;\n",
       "    }\n",
       "\n",
       "    .dataframe tbody tr th {\n",
       "        vertical-align: top;\n",
       "    }\n",
       "\n",
       "    .dataframe thead th {\n",
       "        text-align: right;\n",
       "    }\n",
       "</style>\n",
       "<table border=\"1\" class=\"dataframe\">\n",
       "  <thead>\n",
       "    <tr style=\"text-align: right;\">\n",
       "      <th></th>\n",
       "      <th>Confirmed</th>\n",
       "      <th>Country_Region</th>\n",
       "      <th>Date</th>\n",
       "      <th>Deaths</th>\n",
       "      <th>Last_Update</th>\n",
       "      <th>Province_State</th>\n",
       "      <th>Recovered</th>\n",
       "    </tr>\n",
       "  </thead>\n",
       "  <tbody>\n",
       "    <tr>\n",
       "      <td>948</td>\n",
       "      <td>220.0</td>\n",
       "      <td>US</td>\n",
       "      <td>2020-03-11</td>\n",
       "      <td>0.0</td>\n",
       "      <td>2020-03-11</td>\n",
       "      <td>New York</td>\n",
       "      <td>0.0</td>\n",
       "    </tr>\n",
       "  </tbody>\n",
       "</table>\n",
       "</div>"
      ],
      "text/plain": [
       "     Confirmed Country_Region        Date  Deaths Last_Update Province_State  \\\n",
       "948      220.0             US  2020-03-11     0.0  2020-03-11       New York   \n",
       "\n",
       "     Recovered  \n",
       "948        0.0  "
      ]
     },
     "execution_count": 265,
     "metadata": {},
     "output_type": "execute_result"
    }
   ],
   "source": [
    "# Get data for NY State\n",
    "US_State_copy[(US_State_copy[\"Date\"] == \"2020-03-11\")&((US_State_copy[\"Province_State\"]==\"New York\")| (US_State_copy[\"Province_State\"].str.endswith(\"NY\")))]\n"
   ]
  },
  {
   "cell_type": "code",
   "execution_count": 266,
   "metadata": {},
   "outputs": [],
   "source": [
    "US_State_sum = US_State_copy.groupby([\"Date\",\"Province_State\"]).sum()\n",
    "US_State_sum = US_State_sum.reset_index()"
   ]
  },
  {
   "cell_type": "code",
   "execution_count": 279,
   "metadata": {},
   "outputs": [],
   "source": [
    "# Define function to get the Incremental ratio\n",
    "def get_ratio(series_input): \n",
    "    data = np.array([0])  \n",
    "    new_row = pd.Series(data)  \n",
    "    numerator = series_input.diff()\n",
    "    denominator = pd.concat([new_row, series_input[:]]).reset_index(drop = True).iloc[:-1]\n",
    "    return numerator/denominator\n"
   ]
  },
  {
   "cell_type": "code",
   "execution_count": 293,
   "metadata": {},
   "outputs": [],
   "source": [
    "# Define a function to get the state data with given state name and state short name\n",
    "def get_state_data(df_all,state_name,state_short_name):\n",
    "    df_state = df_all[(df_all[\"Province_State\"].str.startswith(state_name))|(df_all[\"Province_State\"].str.endswith(state_short_name))]\n",
    "    df_state.drop(\"Last_Update\",axis=1,inplace=True)\n",
    "    df_state.drop_duplicates(inplace=True)\n",
    "    df_state_sum = df_state.groupby(\"Date\").sum().sort_values(\"Date\").reset_index()\n",
    "    # Add the number of new cases for each day\n",
    "    df_state_sum.loc[:,\"Confirmed_new\"] = df_state_sum.loc[:,\"Confirmed\"].diff()\n",
    "    df_state_sum.loc[:,\"Deaths_new\"] = df_state_sum.loc[:,\"Deaths\"].diff()\n",
    "    df_state_sum.loc[:,\"Recovered_new\"] = df_state_sum.loc[:,\"Recovered\"].diff()\n",
    "    # Add the Incremental ratio for new cases for each day\n",
    "    for i in [\"Confirmed\",\"Deaths\",\"Recovered\"]:\n",
    "        data = np.array([0])  \n",
    "        new_row = pd.Series(data)\n",
    "        numerator = df_state_sum[i].diff()\n",
    "        denominator = pd.concat([new_row, df_state_sum[i][:]]).reset_index(drop = True).iloc[:-1]\n",
    "        column_name = i + \"_Incremental_Rate\"\n",
    "        df_state_sum.loc[:,column_name] = numerator/denominator\n",
    "    df_state_sum[\"State\"] = state_name\n",
    "    return df_state_sum\n",
    "    \n",
    "    \n",
    "    "
   ]
  },
  {
   "cell_type": "code",
   "execution_count": 296,
   "metadata": {},
   "outputs": [
    {
     "name": "stderr",
     "output_type": "stream",
     "text": [
      "/Users/lush/opt/anaconda3/lib/python3.7/site-packages/ipykernel_launcher.py:4: SettingWithCopyWarning: \n",
      "A value is trying to be set on a copy of a slice from a DataFrame\n",
      "\n",
      "See the caveats in the documentation: http://pandas.pydata.org/pandas-docs/stable/user_guide/indexing.html#returning-a-view-versus-a-copy\n",
      "  after removing the cwd from sys.path.\n"
     ]
    }
   ],
   "source": [
    "US_NY_sum = get_state_data(US_State_copy,\"New York\",\"NY\")\n",
    "\n",
    "US_WA_sum = get_state_data(US_State_copy,\"Washington\",\"WA\")\n",
    "\n",
    "US_CA_sum = get_state_data(US_State_copy,\"California\",\"CA\")\n",
    "\n",
    "US_MI_sum = get_state_data(US_State_copy,\"Michigan\",\"MI\")\n",
    "\n",
    "US_CO_sum = get_state_data(US_State_copy,\"Colorado\",\"CO\")\n",
    "\n",
    "US_FL_sum = get_state_data(US_State_copy,\"Florida\",\"FL\")\n",
    "\n",
    "US_IL_sum = get_state_data(US_State_copy,\"Illinois\",\"IL\")\n",
    "\n",
    "US_KS_sum = get_state_data(US_State_copy,\"Kansas\",\"KS\")\n",
    "\n",
    "US_MA_sum = get_state_data(US_State_copy,\"Massachusetts\",\"MA\")\n",
    "\n",
    "US_NV_sum = get_state_data(US_State_copy,\"Nevada\",\"NV\")\n",
    "\n",
    "US_NJ_sum = get_state_data(US_State_copy,\"New Jersey\",\"NJ\")\n",
    "\n",
    "US_TX_sum = get_state_data(US_State_copy,\"Texas\",\"TX\")\n",
    "\n",
    "State_combine = pd.concat([US_NY_sum,US_WA_sum,US_CA_sum,US_MI_sum,US_CO_sum,US_FL_sum,US_IL_sum,US_KS_sum \\\n",
    "        ,US_MA_sum,US_NV_sum,US_NJ_sum,US_TX_sum])\n"
   ]
  },
  {
   "cell_type": "code",
   "execution_count": 298,
   "metadata": {},
   "outputs": [],
   "source": [
    "State_combine.to_csv(\"State Data.csv\")"
   ]
  },
  {
   "cell_type": "code",
   "execution_count": 302,
   "metadata": {},
   "outputs": [],
   "source": [
    "all_state_name = pd.read_csv(\"state_name_list.csv\")"
   ]
  },
  {
   "cell_type": "code",
   "execution_count": 303,
   "metadata": {},
   "outputs": [
    {
     "data": {
      "text/html": [
       "<div>\n",
       "<style scoped>\n",
       "    .dataframe tbody tr th:only-of-type {\n",
       "        vertical-align: middle;\n",
       "    }\n",
       "\n",
       "    .dataframe tbody tr th {\n",
       "        vertical-align: top;\n",
       "    }\n",
       "\n",
       "    .dataframe thead th {\n",
       "        text-align: right;\n",
       "    }\n",
       "</style>\n",
       "<table border=\"1\" class=\"dataframe\">\n",
       "  <thead>\n",
       "    <tr style=\"text-align: right;\">\n",
       "      <th></th>\n",
       "      <th>state_name</th>\n",
       "      <th>state_short_name</th>\n",
       "    </tr>\n",
       "  </thead>\n",
       "  <tbody>\n",
       "    <tr>\n",
       "      <td>0</td>\n",
       "      <td>Alabama</td>\n",
       "      <td>AL</td>\n",
       "    </tr>\n",
       "    <tr>\n",
       "      <td>1</td>\n",
       "      <td>Alaska</td>\n",
       "      <td>AK</td>\n",
       "    </tr>\n",
       "    <tr>\n",
       "      <td>2</td>\n",
       "      <td>Arizona</td>\n",
       "      <td>AZ</td>\n",
       "    </tr>\n",
       "  </tbody>\n",
       "</table>\n",
       "</div>"
      ],
      "text/plain": [
       "  state_name state_short_name\n",
       "0    Alabama               AL\n",
       "1     Alaska               AK\n",
       "2    Arizona               AZ"
      ]
     },
     "execution_count": 303,
     "metadata": {},
     "output_type": "execute_result"
    }
   ],
   "source": [
    "all_state_name.head(3)"
   ]
  },
  {
   "cell_type": "code",
   "execution_count": 305,
   "metadata": {},
   "outputs": [
    {
     "name": "stderr",
     "output_type": "stream",
     "text": [
      "/Users/lush/opt/anaconda3/lib/python3.7/site-packages/ipykernel_launcher.py:4: SettingWithCopyWarning: \n",
      "A value is trying to be set on a copy of a slice from a DataFrame\n",
      "\n",
      "See the caveats in the documentation: http://pandas.pydata.org/pandas-docs/stable/user_guide/indexing.html#returning-a-view-versus-a-copy\n",
      "  after removing the cwd from sys.path.\n"
     ]
    }
   ],
   "source": [
    "for i in range(len(all_state)):\n",
    "    if i ==0:\n",
    "        df_all_state = get_state_data(US_State_copy,all_state_name[\"state_name\"][i],all_state_name[\"state_short_name\"][i])\n",
    "    else:\n",
    "        df_all_state = pd.concat([df_all_state,get_state_data(US_State_copy,all_state_name[\"state_name\"][i],all_state_name[\"state_short_name\"][i])])\n"
   ]
  },
  {
   "cell_type": "code",
   "execution_count": 309,
   "metadata": {},
   "outputs": [],
   "source": [
    "df_all_state.to_csv(\"all_state_data.csv\")"
   ]
  },
  {
   "cell_type": "code",
   "execution_count": 274,
   "metadata": {},
   "outputs": [
    {
     "name": "stderr",
     "output_type": "stream",
     "text": [
      "/Users/lush/opt/anaconda3/lib/python3.7/site-packages/pandas/core/indexing.py:376: SettingWithCopyWarning: \n",
      "A value is trying to be set on a copy of a slice from a DataFrame.\n",
      "Try using .loc[row_indexer,col_indexer] = value instead\n",
      "\n",
      "See the caveats in the documentation: http://pandas.pydata.org/pandas-docs/stable/user_guide/indexing.html#returning-a-view-versus-a-copy\n",
      "  self.obj[key] = _infer_fill_value(value)\n",
      "/Users/lush/opt/anaconda3/lib/python3.7/site-packages/pandas/core/indexing.py:494: SettingWithCopyWarning: \n",
      "A value is trying to be set on a copy of a slice from a DataFrame.\n",
      "Try using .loc[row_indexer,col_indexer] = value instead\n",
      "\n",
      "See the caveats in the documentation: http://pandas.pydata.org/pandas-docs/stable/user_guide/indexing.html#returning-a-view-versus-a-copy\n",
      "  self.obj[item] = s\n"
     ]
    }
   ],
   "source": [
    "Hubei.drop([\"Country_Region\",\"Last_Update\"], axis=1,inplace = True)\n",
    "# Add the number of new cases for each day\n",
    "Hubei.loc[:,\"Confirmed_new\"] = Hubei.loc[:,\"Confirmed\"].diff()\n",
    "Hubei.loc[:,\"Deaths_new\"] = Hubei.loc[:,\"Deaths\"].diff()\n",
    "Hubei.loc[:,\"Recovered_new\"] = Hubei.loc[:,\"Recovered\"].diff()\n",
    "\n",
    "# Add the Incremental ratio for new cases for each day\n",
    "Hubei.loc[:,\"Confirmed_Incremental_Rate\"] = get_ratio(Hubei[\"Confirmed\"])\n",
    "Hubei.loc[:,\"Deaths_Incremental_Rate\"] = get_ratio(Hubei[\"Deaths\"])\n",
    "Hubei.loc[:,\"Recovered_Incremental_Rate\"] = get_ratio(Hubei[\"Recovered\"])"
   ]
  },
  {
   "cell_type": "code",
   "execution_count": 194,
   "metadata": {},
   "outputs": [],
   "source": [
    "Hubei = Hubei.reset_index().drop(\"index\",axis=1)"
   ]
  },
  {
   "cell_type": "code",
   "execution_count": 195,
   "metadata": {},
   "outputs": [],
   "source": [
    "# Define a function to get the date that there are more than 100 confirmed cases\n",
    "def more_than_100(df,date_column,case_column):\n",
    "    first_date = df[date_column][0]\n",
    "    for i in range(len(df)):\n",
    "        if df[case_column][i] < 100:\n",
    "            first_date = df[date_column][i]\n",
    "        elif df[case_column][i] > 100:\n",
    "            break\n",
    "    df_more_than_100 = df[(df[date_column] > first_date)]\n",
    "    print(first_date)\n",
    "    return df_more_than_100\n",
    "\n"
   ]
  },
  {
   "cell_type": "code",
   "execution_count": 196,
   "metadata": {
    "scrolled": true
   },
   "outputs": [
    {
     "name": "stdout",
     "output_type": "stream",
     "text": [
      "2020-03-11\n",
      "2020-01-23\n"
     ]
    }
   ],
   "source": [
    "NY_greater_100 = more_than_100(US_NY_sum,\"Date\",\"Confirmed_new\")\n",
    "Hubei_greater_100 = more_than_100(Hubei,\"Date\",\"Confirmed_new\")\n"
   ]
  },
  {
   "cell_type": "code",
   "execution_count": 197,
   "metadata": {},
   "outputs": [],
   "source": [
    "NY_greater_100 = NY_greater_100.reset_index().drop(\"index\",axis=1)"
   ]
  },
  {
   "cell_type": "markdown",
   "metadata": {},
   "source": [
    "## Visualization for CA and NY"
   ]
  },
  {
   "cell_type": "code",
   "execution_count": 217,
   "metadata": {},
   "outputs": [
    {
     "data": {
      "text/plain": [
       "(-10000, 200000)"
      ]
     },
     "execution_count": 217,
     "metadata": {},
     "output_type": "execute_result"
    },
    {
     "data": {
      "image/png": "[encoded data removed]",
      "text/plain": [
       "<Figure size 1296x432 with 2 Axes>"
      ]
     },
     "metadata": {
      "needs_background": "light"
     },
     "output_type": "display_data"
    }
   ],
   "source": [
    "fig, axs = plt.subplots(1, 2,figsize=(18,6))\n",
    "fig.suptitle('Clumulative Cases for NY and CA',fontsize = 18)\n",
    "viz_x_inverval = int(len(US_CA_sum[\"Date\"])/5)\n",
    "viz_x_date_pos = [i*(viz_x_inverval-1)+4 for i in range(6)]\n",
    "axs[0].title.set_text('Confirmed Cases and Deaths for CA')\n",
    "axs[0].set_xticks(viz_x_date_pos)\n",
    "axs[0].set_xticklabels(US_CA_sum[\"Date\"].iloc[viz_x_date_pos])\n",
    "axs[0].plot(US_CA_sum[\"Confirmed\"],\"-+\")\n",
    "axs[0].plot(US_CA_sum[\"Deaths\"],\"-*\",markersize  = 4)\n",
    "axs[0].legend([\"Confirmed\",\"Deaths\"], loc='upper left',fontsize = 12)\n",
    "axs[0].set_ylim([-10000,200000])\n",
    "\n",
    "viz_x_inverval = int(len(US_NY_sum[\"Date\"])/5)\n",
    "viz_x_date_pos = [i*(viz_x_inverval-1)+4 for i in range(6)]\n",
    "axs[1].title.set_text('Confirmed Cases and Deaths for NY')\n",
    "axs[1].set_xticks(viz_x_date_pos)\n",
    "axs[1].set_xticklabels(US_NY_sum[\"Date\"].iloc[viz_x_date_pos])\n",
    "axs[1].plot(US_NY_sum[\"Confirmed\"],\"-+\")\n",
    "axs[1].plot(US_NY_sum[\"Deaths\"],\"-*\",markersize  = 4)\n",
    "axs[1].legend([\"Confirmed\",\"Deaths\"], loc='upper left',fontsize = 12)\n",
    "axs[1].set_ylim([-10000,200000])\n"
   ]
  },
  {
   "cell_type": "code",
   "execution_count": 237,
   "metadata": {},
   "outputs": [
    {
     "data": {
      "text/plain": [
       "(-1000, 20000)"
      ]
     },
     "execution_count": 237,
     "metadata": {},
     "output_type": "execute_result"
    },
    {
     "data": {
      "image/png": "[encoded data removed]",
      "text/plain": [
       "<Figure size 1296x432 with 2 Axes>"
      ]
     },
     "metadata": {
      "needs_background": "light"
     },
     "output_type": "display_data"
    }
   ],
   "source": [
    "fig, axs = plt.subplots(1, 2,figsize=(18,6))\n",
    "fig.suptitle('Mew Cases for NY and CA',fontsize = 18)\n",
    "viz_x_inverval = int(len(US_CA_sum[\"Date\"])/5)\n",
    "viz_x_date_pos = [i*(viz_x_inverval-1)+4 for i in range(6)]\n",
    "\n",
    "axs[0].set_xticks(viz_x_date_pos)\n",
    "axs[0].set_xticklabels(US_CA_sum[\"Date\"].iloc[viz_x_date_pos])\n",
    "axs[0].title.set_text('New Cases and Deaths for CA')\n",
    "axs[0].plot(US_CA_sum[\"Confirmed_new\"],\"-+\")\n",
    "axs[0].plot(US_CA_sum[\"Deaths_new\"],\"-*\",markersize  = 4)\n",
    "axs[0].legend([\"Confirmed\",\"Deaths\"], loc='upper left',fontsize = 12)\n",
    "axs[0].set_ylim([-1000,20000])\n",
    "\n",
    "viz_x_inverval = int(len(US_NY_sum[\"Date\"])/5)\n",
    "viz_x_date_pos = [i*(viz_x_inverval-1)+4 for i in range(6)]\n",
    "axs[1].set_xticks(viz_x_date_pos)\n",
    "axs[1].set_xticklabels(US_NY_sum[\"Date\"].iloc[viz_x_date_pos])\n",
    "axs[1].title.set_text('New Cases and Deaths for NY')\n",
    "axs[1].plot(US_NY_sum[\"Confirmed_new\"],\"-+\")\n",
    "axs[1].plot(US_NY_sum[\"Deaths_new\"],\"-*\",markersize  = 4)\n",
    "axs[1].legend([\"Confirmed\",\"Deaths\"], loc='upper left',fontsize = 12)\n",
    "axs[1].set_ylim([-1000,20000])\n"
   ]
  },
  {
   "cell_type": "markdown",
   "metadata": {},
   "source": [
    "## Visualization for CA"
   ]
  },
  {
   "cell_type": "code",
   "execution_count": 219,
   "metadata": {},
   "outputs": [
    {
     "data": {
      "image/png": "[encoded data removed]",
      "text/plain": [
       "<Figure size 576x288 with 1 Axes>"
      ]
     },
     "metadata": {
      "needs_background": "light"
     },
     "output_type": "display_data"
    }
   ],
   "source": [
    "# Culmulative Confirmed Cases and Deaths for CA\n",
    "plt.figure(figsize=(8,4))\n",
    "plt.title(\"Culmulative Confirmed Cases and Deaths for CA\",fontsize = 14)\n",
    "plt.plot(US_CA_sum[\"Confirmed\"],\"-+\")\n",
    "plt.plot(US_CA_sum[\"Deaths\"],\"-*\",markersize  = 4)\n",
    "plt.xticks(viz_x_date_pos,US_CA_sum[\"Date\"].iloc[viz_x_date_pos])\n",
    "\n",
    "plt.legend(['Confirmed Cases',\"Deaths\"], loc='upper left')\n",
    "plt.grid()"
   ]
  },
  {
   "cell_type": "code",
   "execution_count": 220,
   "metadata": {},
   "outputs": [
    {
     "data": {
      "image/png": "[encoded data removed]",
      "text/plain": [
       "<Figure size 576x288 with 1 Axes>"
      ]
     },
     "metadata": {
      "needs_background": "light"
     },
     "output_type": "display_data"
    }
   ],
   "source": [
    "# New Confirmed Cases and Deaths for Korea\n",
    "plt.figure(figsize=(8,4))\n",
    "plt.title(\"New Confirmed Cases and Deaths for Korea\",fontsize = 14)\n",
    "plt.plot(US_CA_sum[\"Confirmed_new\"],\"-+\")\n",
    "plt.plot(US_CA_sum[\"Deaths_new\"],\"-*\",markersize = 3)\n",
    "plt.xticks(viz_x_date_pos,US_CA_sum[\"Date\"].iloc[viz_x_date_pos])\n",
    "\n",
    "plt.legend(['Confirmed Cases',\"Deaths\"], loc='upper left')\n",
    "plt.grid()"
   ]
  },
  {
   "cell_type": "markdown",
   "metadata": {},
   "source": [
    "## Visualization for NY"
   ]
  },
  {
   "cell_type": "code",
   "execution_count": 221,
   "metadata": {},
   "outputs": [
    {
     "data": {
      "image/png": "[encoded data removed]",
      "text/plain": [
       "<Figure size 576x288 with 1 Axes>"
      ]
     },
     "metadata": {
      "needs_background": "light"
     },
     "output_type": "display_data"
    }
   ],
   "source": [
    "plt.figure(figsize=(8,4))\n",
    "\n",
    "plt.title(\"New Confirmed Cases for NY and Hubei\",fontsize = 14)\n",
    "plt.plot(NY_greater_100[\"Confirmed_new\"])\n",
    "plt.plot(Hubei_greater_100[\"Confirmed_new\"])\n",
    "plt.xlabel(\"Days from the Begin Date (Different for two places)\",fontsize = 12)\n",
    "plt.legend(['New York','HuBei'], loc='upper left')\n",
    "plt.grid()"
   ]
  },
  {
   "cell_type": "code",
   "execution_count": 222,
   "metadata": {},
   "outputs": [
    {
     "data": {
      "text/html": [
       "<div>\n",
       "<style scoped>\n",
       "    .dataframe tbody tr th:only-of-type {\n",
       "        vertical-align: middle;\n",
       "    }\n",
       "\n",
       "    .dataframe tbody tr th {\n",
       "        vertical-align: top;\n",
       "    }\n",
       "\n",
       "    .dataframe thead th {\n",
       "        text-align: right;\n",
       "    }\n",
       "</style>\n",
       "<table border=\"1\" class=\"dataframe\">\n",
       "  <thead>\n",
       "    <tr style=\"text-align: right;\">\n",
       "      <th></th>\n",
       "      <th>Confirmed</th>\n",
       "      <th>Date</th>\n",
       "      <th>Deaths</th>\n",
       "      <th>Province_State</th>\n",
       "      <th>Recovered</th>\n",
       "      <th>Confirmed_new</th>\n",
       "      <th>Deaths_new</th>\n",
       "      <th>Recovered_new</th>\n",
       "      <th>Confirmed_Incremental_Rate</th>\n",
       "      <th>Deaths_Incremental_Rate</th>\n",
       "      <th>Recovered_Incremental_Rate</th>\n",
       "    </tr>\n",
       "  </thead>\n",
       "  <tbody>\n",
       "    <tr>\n",
       "      <td>19</td>\n",
       "      <td>33366.0</td>\n",
       "      <td>2020-02-11</td>\n",
       "      <td>1068.0</td>\n",
       "      <td>Hubei</td>\n",
       "      <td>2639.0</td>\n",
       "      <td>1638.0</td>\n",
       "      <td>94.0</td>\n",
       "      <td>417.0</td>\n",
       "      <td>NaN</td>\n",
       "      <td>NaN</td>\n",
       "      <td>NaN</td>\n",
       "    </tr>\n",
       "  </tbody>\n",
       "</table>\n",
       "</div>"
      ],
      "text/plain": [
       "    Confirmed        Date  Deaths Province_State  Recovered  Confirmed_new  \\\n",
       "19    33366.0  2020-02-11  1068.0          Hubei     2639.0         1638.0   \n",
       "\n",
       "    Deaths_new  Recovered_new  Confirmed_Incremental_Rate  \\\n",
       "19        94.0          417.0                         NaN   \n",
       "\n",
       "    Deaths_Incremental_Rate  Recovered_Incremental_Rate  \n",
       "19                      NaN                         NaN  "
      ]
     },
     "execution_count": 222,
     "metadata": {},
     "output_type": "execute_result"
    }
   ],
   "source": [
    "Hubei[Hubei[\"Date\"]==\"2020-02-11\"]"
   ]
  },
  {
   "cell_type": "code",
   "execution_count": 223,
   "metadata": {},
   "outputs": [
    {
     "data": {
      "text/html": [
       "<div>\n",
       "<style scoped>\n",
       "    .dataframe tbody tr th:only-of-type {\n",
       "        vertical-align: middle;\n",
       "    }\n",
       "\n",
       "    .dataframe tbody tr th {\n",
       "        vertical-align: top;\n",
       "    }\n",
       "\n",
       "    .dataframe thead th {\n",
       "        text-align: right;\n",
       "    }\n",
       "</style>\n",
       "<table border=\"1\" class=\"dataframe\">\n",
       "  <thead>\n",
       "    <tr style=\"text-align: right;\">\n",
       "      <th></th>\n",
       "      <th>Confirmed</th>\n",
       "      <th>Date</th>\n",
       "      <th>Deaths</th>\n",
       "      <th>Province_State</th>\n",
       "      <th>Recovered</th>\n",
       "      <th>Confirmed_new</th>\n",
       "      <th>Deaths_new</th>\n",
       "      <th>Recovered_new</th>\n",
       "      <th>Confirmed_Incremental_Rate</th>\n",
       "      <th>Deaths_Incremental_Rate</th>\n",
       "      <th>Recovered_Incremental_Rate</th>\n",
       "    </tr>\n",
       "  </thead>\n",
       "  <tbody>\n",
       "    <tr>\n",
       "      <td>0</td>\n",
       "      <td>444.0</td>\n",
       "      <td>2020-01-22</td>\n",
       "      <td>17.0</td>\n",
       "      <td>Hubei</td>\n",
       "      <td>28.0</td>\n",
       "      <td>NaN</td>\n",
       "      <td>NaN</td>\n",
       "      <td>NaN</td>\n",
       "      <td>NaN</td>\n",
       "      <td>NaN</td>\n",
       "      <td>NaN</td>\n",
       "    </tr>\n",
       "    <tr>\n",
       "      <td>1</td>\n",
       "      <td>444.0</td>\n",
       "      <td>2020-01-23</td>\n",
       "      <td>17.0</td>\n",
       "      <td>Hubei</td>\n",
       "      <td>28.0</td>\n",
       "      <td>0.0</td>\n",
       "      <td>0.0</td>\n",
       "      <td>0.0</td>\n",
       "      <td>0.000000</td>\n",
       "      <td>0.000000</td>\n",
       "      <td>0.00000</td>\n",
       "    </tr>\n",
       "    <tr>\n",
       "      <td>2</td>\n",
       "      <td>549.0</td>\n",
       "      <td>2020-01-24</td>\n",
       "      <td>24.0</td>\n",
       "      <td>Hubei</td>\n",
       "      <td>31.0</td>\n",
       "      <td>105.0</td>\n",
       "      <td>7.0</td>\n",
       "      <td>3.0</td>\n",
       "      <td>0.001549</td>\n",
       "      <td>0.002215</td>\n",
       "      <td>0.00005</td>\n",
       "    </tr>\n",
       "  </tbody>\n",
       "</table>\n",
       "</div>"
      ],
      "text/plain": [
       "   Confirmed        Date  Deaths Province_State  Recovered  Confirmed_new  \\\n",
       "0      444.0  2020-01-22    17.0          Hubei       28.0            NaN   \n",
       "1      444.0  2020-01-23    17.0          Hubei       28.0            0.0   \n",
       "2      549.0  2020-01-24    24.0          Hubei       31.0          105.0   \n",
       "\n",
       "   Deaths_new  Recovered_new  Confirmed_Incremental_Rate  \\\n",
       "0         NaN            NaN                         NaN   \n",
       "1         0.0            0.0                    0.000000   \n",
       "2         7.0            3.0                    0.001549   \n",
       "\n",
       "   Deaths_Incremental_Rate  Recovered_Incremental_Rate  \n",
       "0                      NaN                         NaN  \n",
       "1                 0.000000                     0.00000  \n",
       "2                 0.002215                     0.00005  "
      ]
     },
     "execution_count": 223,
     "metadata": {},
     "output_type": "execute_result"
    }
   ],
   "source": [
    "Hubei.head(3)"
   ]
  },
  {
   "cell_type": "markdown",
   "metadata": {},
   "source": [
    "## SIR modeling for fitting COVID-19 Trends"
   ]
  },
  {
   "cell_type": "code",
   "execution_count": 230,
   "metadata": {},
   "outputs": [],
   "source": [
    "from scipy import optimize\n",
    "from scipy import integrate"
   ]
  },
  {
   "cell_type": "code",
   "execution_count": 233,
   "metadata": {},
   "outputs": [
    {
     "data": {
      "text/plain": [
       "1.0"
      ]
     },
     "execution_count": 233,
     "metadata": {},
     "output_type": "execute_result"
    }
   ],
   "source": [
    "ydata[0]"
   ]
  },
  {
   "cell_type": "code",
   "execution_count": 231,
   "metadata": {},
   "outputs": [
    {
     "name": "stderr",
     "output_type": "stream",
     "text": [
      "/Users/lush/opt/anaconda3/lib/python3.7/site-packages/scipy/integrate/odepack.py:247: ODEintWarning: Excess work done on this call (perhaps wrong Dfun type). Run with full_output = 1 to get quantitative information.\n",
      "  warnings.warn(warning_msg, ODEintWarning)\n"
     ]
    },
    {
     "data": {
      "image/png": "[encoded data removed]",
      "text/plain": [
       "<Figure size 432x288 with 1 Axes>"
      ]
     },
     "metadata": {
      "needs_background": "light"
     },
     "output_type": "display_data"
    },
    {
     "name": "stdout",
     "output_type": "stream",
     "text": [
      "Optimal parameters: beta = 14.745668240814657  and gamma =  14.399168656058325\n"
     ]
    }
   ],
   "source": [
    "# Fit from start\n",
    "population = float(46750238)\n",
    "SIR_US_df = pd.DataFrame(US_NY_sum[\"Confirmed_new\"])\n",
    "SIR_US_df['day_count'] = list(range(1,len(SIR_US_df)+1))\n",
    "SIR_US_df.dropna(inplace = True)\n",
    "ydata = [i for i in SIR_US_df[\"Confirmed_new\"]]\n",
    "xdata = SIR_US_df[\"day_count\"]\n",
    "ydata = np.array(ydata, dtype=float)\n",
    "xdata = np.array(xdata, dtype=float)\n",
    "\n",
    "N = population\n",
    "inf0 = ydata[0]\n",
    "sus0 = N - inf0\n",
    "rec0 = 0.0\n",
    "\n",
    "def sir_model(y, x, beta, gamma):\n",
    "    sus = -beta * y[0] * y[1] / N\n",
    "    rec = gamma * y[1]\n",
    "    inf = -(sus + rec)\n",
    "    return sus, inf, rec\n",
    "\n",
    "def fit_odeint(x, beta, gamma):\n",
    "    return integrate.odeint(sir_model, (sus0, inf0, rec0), x, args=(beta, gamma))[:,1]\n",
    "\n",
    "popt, pcov = optimize.curve_fit(fit_odeint, xdata, ydata)\n",
    "fitted = fit_odeint(xdata, *popt)\n",
    "\n",
    "plt.plot(xdata, ydata, 'o')\n",
    "plt.plot(xdata, fitted)\n",
    "plt.title(\"Fit of SIR model for Spain infected cases\")\n",
    "plt.ylabel(\"Population infected\")\n",
    "plt.xlabel(\"Days\")\n",
    "plt.show()\n",
    "print(\"Optimal parameters: beta =\", popt[0], \" and gamma = \", popt[1])"
   ]
  },
  {
   "cell_type": "code",
   "execution_count": null,
   "metadata": {},
   "outputs": [],
   "source": []
  }
 ],
 "metadata": {
  "kernelspec": {
   "display_name": "Python 3",
   "language": "python",
   "name": "python3"
  },
  "language_info": {
   "codemirror_mode": {
    "name": "ipython",
    "version": 3
   },
   "file_extension": ".py",
   "mimetype": "text/x-python",
   "name": "python",
   "nbconvert_exporter": "python",
   "pygments_lexer": "ipython3",
   "version": "3.7.4"
  },
  "toc": {
   "base_numbering": 1,
   "nav_menu": {},
   "number_sections": true,
   "sideBar": true,
   "skip_h1_title": false,
   "title_cell": "Table of Contents",
   "title_sidebar": "Contents",
   "toc_cell": false,
   "toc_position": {},
   "toc_section_display": true,
   "toc_window_display": false
  }
 },
 "nbformat": 4,
 "nbformat_minor": 2
}
