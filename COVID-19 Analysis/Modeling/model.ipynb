{
 "nbformat": 4,
 "nbformat_minor": 2,
 "metadata": {
  "language_info": {
   "name": "python",
   "codemirror_mode": {
    "name": "ipython",
    "version": 3
   },
   "version": "3.6.8-final"
  },
  "orig_nbformat": 2,
  "file_extension": ".py",
  "mimetype": "text/x-python",
  "name": "python",
  "npconvert_exporter": "python",
  "pygments_lexer": "ipython3",
  "version": 3,
  "kernelspec": {
   "name": "python36864bitvenvfac4017c01e74b3ca2af5e834909c608",
   "display_name": "Python 3.6.8 64-bit ('venv')"
  }
 },
 "cells": [
  {
   "cell_type": "markdown",
   "metadata": {},
   "source": [
    "# Regression on state-wise factors and COVID-19 pandemic changes"
   ]
  },
  {
   "cell_type": "code",
   "execution_count": 1,
   "metadata": {},
   "outputs": [],
   "source": [
    "import pandas as pd\n",
    "from sklearn.linear_model import LinearRegression, Lasso\n",
    "from sklearn import preprocessing\n",
    "from sklearn.linear_model import ElasticNet\n",
    "import statsmodels.api as sm\n",
    "from statsmodels.stats.outliers_influence import variance_inflation_factor\n",
    "pd.set_option(\"display.precision\", 4)"
   ]
  },
  {
   "cell_type": "markdown",
   "metadata": {},
   "source": [
    "## Data preprocessing"
   ]
  },
  {
   "cell_type": "code",
   "execution_count": 2,
   "metadata": {},
   "outputs": [],
   "source": [
    "df_model = pd.read_csv('model_data_final.csv')"
   ]
  },
  {
   "cell_type": "code",
   "execution_count": 3,
   "metadata": {},
   "outputs": [
    {
     "output_type": "stream",
     "name": "stdout",
     "text": "Unnamed: 0\nstate_name\nSD\nLD\nNESC\nPC\nGS\nCPV\nstart_date\ncases_y\ninfection_rate\ndeaths_y\ndeath_rate\naging\npop_density_sqkm\neducation_index\nairport_density_sqkm\navg_principle_cost\nsurgical_quality\n"
    }
   ],
   "source": [
    "for name in df_model.columns:\n",
    "  print(name)"
   ]
  },
  {
   "cell_type": "code",
   "execution_count": 4,
   "metadata": {},
   "outputs": [
    {
     "output_type": "execute_result",
     "data": {
      "text/plain": "   Unnamed: 0  state_name  SD  LD  NESC  PC  GS  CPV start_date  cases_y  \\\n0           0  California   0   0     0   0   0    0    1/26/20   1.0256   \n1           1  California   1   0     0   0   0    0     3/5/20  17.1667   \n2           2  California   1   0     0   0   1    0    3/11/20  38.0000   \n3           3  California   1   0     0   0   3    0    3/12/20  46.0000   \n4           4  California   1   0     0   1   4    0    3/13/20  63.0000   \n\n   infection_rate  deaths_y  death_rate  aging  pop_density_sqkm  \\\n0          0.1262    0.0000      0.0000  0.143              95.0   \n1          0.2449    0.3333      0.0035  0.143              95.0   \n2          0.2639    0.0000      0.0000  0.143              95.0   \n3          0.2527    1.0000      0.0055  0.143              95.0   \n4          0.2474    0.5000      0.0018  0.143              95.0   \n\n   education_index  airport_density_sqkm  avg_principle_cost  surgical_quality  \n0            13.44                0.0012             1097181           31.2401  \n1            13.44                0.0012             1097181           31.2401  \n2            13.44                0.0012             1097181           31.2401  \n3            13.44                0.0012             1097181           31.2401  \n4            13.44                0.0012             1097181           31.2401  ",
      "text/html": "<div>\n<style scoped>\n    .dataframe tbody tr th:only-of-type {\n        vertical-align: middle;\n    }\n\n    .dataframe tbody tr th {\n        vertical-align: top;\n    }\n\n    .dataframe thead th {\n        text-align: right;\n    }\n</style>\n<table border=\"1\" class=\"dataframe\">\n  <thead>\n    <tr style=\"text-align: right;\">\n      <th></th>\n      <th>Unnamed: 0</th>\n      <th>state_name</th>\n      <th>SD</th>\n      <th>LD</th>\n      <th>NESC</th>\n      <th>PC</th>\n      <th>GS</th>\n      <th>CPV</th>\n      <th>start_date</th>\n      <th>cases_y</th>\n      <th>infection_rate</th>\n      <th>deaths_y</th>\n      <th>death_rate</th>\n      <th>aging</th>\n      <th>pop_density_sqkm</th>\n      <th>education_index</th>\n      <th>airport_density_sqkm</th>\n      <th>avg_principle_cost</th>\n      <th>surgical_quality</th>\n    </tr>\n  </thead>\n  <tbody>\n    <tr>\n      <th>0</th>\n      <td>0</td>\n      <td>California</td>\n      <td>0</td>\n      <td>0</td>\n      <td>0</td>\n      <td>0</td>\n      <td>0</td>\n      <td>0</td>\n      <td>1/26/20</td>\n      <td>1.0256</td>\n      <td>0.1262</td>\n      <td>0.0000</td>\n      <td>0.0000</td>\n      <td>0.143</td>\n      <td>95.0</td>\n      <td>13.44</td>\n      <td>0.0012</td>\n      <td>1097181</td>\n      <td>31.2401</td>\n    </tr>\n    <tr>\n      <th>1</th>\n      <td>1</td>\n      <td>California</td>\n      <td>1</td>\n      <td>0</td>\n      <td>0</td>\n      <td>0</td>\n      <td>0</td>\n      <td>0</td>\n      <td>3/5/20</td>\n      <td>17.1667</td>\n      <td>0.2449</td>\n      <td>0.3333</td>\n      <td>0.0035</td>\n      <td>0.143</td>\n      <td>95.0</td>\n      <td>13.44</td>\n      <td>0.0012</td>\n      <td>1097181</td>\n      <td>31.2401</td>\n    </tr>\n    <tr>\n      <th>2</th>\n      <td>2</td>\n      <td>California</td>\n      <td>1</td>\n      <td>0</td>\n      <td>0</td>\n      <td>0</td>\n      <td>1</td>\n      <td>0</td>\n      <td>3/11/20</td>\n      <td>38.0000</td>\n      <td>0.2639</td>\n      <td>0.0000</td>\n      <td>0.0000</td>\n      <td>0.143</td>\n      <td>95.0</td>\n      <td>13.44</td>\n      <td>0.0012</td>\n      <td>1097181</td>\n      <td>31.2401</td>\n    </tr>\n    <tr>\n      <th>3</th>\n      <td>3</td>\n      <td>California</td>\n      <td>1</td>\n      <td>0</td>\n      <td>0</td>\n      <td>0</td>\n      <td>3</td>\n      <td>0</td>\n      <td>3/12/20</td>\n      <td>46.0000</td>\n      <td>0.2527</td>\n      <td>1.0000</td>\n      <td>0.0055</td>\n      <td>0.143</td>\n      <td>95.0</td>\n      <td>13.44</td>\n      <td>0.0012</td>\n      <td>1097181</td>\n      <td>31.2401</td>\n    </tr>\n    <tr>\n      <th>4</th>\n      <td>4</td>\n      <td>California</td>\n      <td>1</td>\n      <td>0</td>\n      <td>0</td>\n      <td>1</td>\n      <td>4</td>\n      <td>0</td>\n      <td>3/13/20</td>\n      <td>63.0000</td>\n      <td>0.2474</td>\n      <td>0.5000</td>\n      <td>0.0018</td>\n      <td>0.143</td>\n      <td>95.0</td>\n      <td>13.44</td>\n      <td>0.0012</td>\n      <td>1097181</td>\n      <td>31.2401</td>\n    </tr>\n  </tbody>\n</table>\n</div>"
     },
     "metadata": {},
     "execution_count": 4
    }
   ],
   "source": [
    "df_model.head()"
   ]
  },
  {
   "cell_type": "markdown",
   "metadata": {},
   "source": [
    "### Drop medicare features for better $R^2$ fitting score"
   ]
  },
  {
   "cell_type": "code",
   "execution_count": 5,
   "metadata": {},
   "outputs": [
    {
     "output_type": "execute_result",
     "data": {
      "text/plain": "   state_name  SD  NESC  PC  GS  CPV  infection_rate  death_rate  aging  \\\n0  California   0     0   0   0    0          0.1262      0.0000  0.143   \n1  California   1     0   0   0    0          0.2449      0.0035  0.143   \n2  California   1     0   0   1    0          0.2639      0.0000  0.143   \n3  California   1     0   0   3    0          0.2527      0.0055  0.143   \n4  California   1     0   1   4    0          0.2474      0.0018  0.143   \n\n   pop_density_sqkm  education_index  airport_density_sqkm  \n0              95.0            13.44                0.0012  \n1              95.0            13.44                0.0012  \n2              95.0            13.44                0.0012  \n3              95.0            13.44                0.0012  \n4              95.0            13.44                0.0012  ",
      "text/html": "<div>\n<style scoped>\n    .dataframe tbody tr th:only-of-type {\n        vertical-align: middle;\n    }\n\n    .dataframe tbody tr th {\n        vertical-align: top;\n    }\n\n    .dataframe thead th {\n        text-align: right;\n    }\n</style>\n<table border=\"1\" class=\"dataframe\">\n  <thead>\n    <tr style=\"text-align: right;\">\n      <th></th>\n      <th>state_name</th>\n      <th>SD</th>\n      <th>NESC</th>\n      <th>PC</th>\n      <th>GS</th>\n      <th>CPV</th>\n      <th>infection_rate</th>\n      <th>death_rate</th>\n      <th>aging</th>\n      <th>pop_density_sqkm</th>\n      <th>education_index</th>\n      <th>airport_density_sqkm</th>\n    </tr>\n  </thead>\n  <tbody>\n    <tr>\n      <th>0</th>\n      <td>California</td>\n      <td>0</td>\n      <td>0</td>\n      <td>0</td>\n      <td>0</td>\n      <td>0</td>\n      <td>0.1262</td>\n      <td>0.0000</td>\n      <td>0.143</td>\n      <td>95.0</td>\n      <td>13.44</td>\n      <td>0.0012</td>\n    </tr>\n    <tr>\n      <th>1</th>\n      <td>California</td>\n      <td>1</td>\n      <td>0</td>\n      <td>0</td>\n      <td>0</td>\n      <td>0</td>\n      <td>0.2449</td>\n      <td>0.0035</td>\n      <td>0.143</td>\n      <td>95.0</td>\n      <td>13.44</td>\n      <td>0.0012</td>\n    </tr>\n    <tr>\n      <th>2</th>\n      <td>California</td>\n      <td>1</td>\n      <td>0</td>\n      <td>0</td>\n      <td>1</td>\n      <td>0</td>\n      <td>0.2639</td>\n      <td>0.0000</td>\n      <td>0.143</td>\n      <td>95.0</td>\n      <td>13.44</td>\n      <td>0.0012</td>\n    </tr>\n    <tr>\n      <th>3</th>\n      <td>California</td>\n      <td>1</td>\n      <td>0</td>\n      <td>0</td>\n      <td>3</td>\n      <td>0</td>\n      <td>0.2527</td>\n      <td>0.0055</td>\n      <td>0.143</td>\n      <td>95.0</td>\n      <td>13.44</td>\n      <td>0.0012</td>\n    </tr>\n    <tr>\n      <th>4</th>\n      <td>California</td>\n      <td>1</td>\n      <td>0</td>\n      <td>1</td>\n      <td>4</td>\n      <td>0</td>\n      <td>0.2474</td>\n      <td>0.0018</td>\n      <td>0.143</td>\n      <td>95.0</td>\n      <td>13.44</td>\n      <td>0.0012</td>\n    </tr>\n  </tbody>\n</table>\n</div>"
     },
     "metadata": {},
     "execution_count": 5
    }
   ],
   "source": [
    "df_XY = df_model.drop(columns=['Unnamed: 0', 'cases_y', 'deaths_y', 'start_date', 'LD', 'avg_principle_cost','surgical_quality'], inplace = False).dropna(inplace=False)\n",
    "df_XY.head()"
   ]
  },
  {
   "cell_type": "markdown",
   "metadata": {},
   "source": [
    "### Check Correlation"
   ],
   "execution_count": null,
   "outputs": []
  },
  {
   "cell_type": "code",
   "execution_count": 6,
   "metadata": {},
   "outputs": [
    {
     "output_type": "execute_result",
     "data": {
      "text/plain": "                          SD    NESC      PC      GS     CPV  infection_rate  \\\nSD                    1.0000  0.3858  0.4228  0.4448  0.2283         -0.2450   \nNESC                  0.3858  1.0000  0.4714  0.5040  0.4835         -0.1989   \nPC                    0.4228  0.4714  1.0000  0.5256  0.4650         -0.2403   \nGS                    0.4448  0.5040  0.5256  1.0000  0.5144         -0.3442   \nCPV                   0.2283  0.4835  0.4650  0.5144  1.0000         -0.1183   \ninfection_rate       -0.2450 -0.1989 -0.2403 -0.3442 -0.1183          1.0000   \ndeath_rate           -0.1161 -0.0543  0.0245 -0.1505  0.0169          0.1255   \naging                 0.1413  0.0771  0.1281 -0.0888  0.2224          0.1968   \npop_density_sqkm     -0.2529 -0.0165  0.1183  0.0151 -0.2816          0.1395   \neducation_index      -0.1211  0.0297  0.1493 -0.0225 -0.2886          0.0041   \nairport_density_sqkm -0.2349 -0.0201  0.1308  0.0272 -0.2711          0.1510   \n\n                      death_rate   aging  pop_density_sqkm  education_index  \\\nSD                       -0.1161  0.1413           -0.2529          -0.1211   \nNESC                     -0.0543  0.0771           -0.0165           0.0297   \nPC                        0.0245  0.1281            0.1183           0.1493   \nGS                       -0.1505 -0.0888            0.0151          -0.0225   \nCPV                       0.0169  0.2224           -0.2816          -0.2886   \ninfection_rate            0.1255  0.1968            0.1395           0.0041   \ndeath_rate                1.0000 -0.0090           -0.1279          -0.0411   \naging                    -0.0090  1.0000           -0.4396          -0.2456   \npop_density_sqkm         -0.1279 -0.4396            1.0000           0.8281   \neducation_index          -0.0411 -0.2456            0.8281           1.0000   \nairport_density_sqkm     -0.1391 -0.4002            0.9879           0.8382   \n\n                      airport_density_sqkm  \nSD                                 -0.2349  \nNESC                               -0.0201  \nPC                                  0.1308  \nGS                                  0.0272  \nCPV                                -0.2711  \ninfection_rate                      0.1510  \ndeath_rate                         -0.1391  \naging                              -0.4002  \npop_density_sqkm                    0.9879  \neducation_index                     0.8382  \nairport_density_sqkm                1.0000  ",
      "text/html": "<div>\n<style scoped>\n    .dataframe tbody tr th:only-of-type {\n        vertical-align: middle;\n    }\n\n    .dataframe tbody tr th {\n        vertical-align: top;\n    }\n\n    .dataframe thead th {\n        text-align: right;\n    }\n</style>\n<table border=\"1\" class=\"dataframe\">\n  <thead>\n    <tr style=\"text-align: right;\">\n      <th></th>\n      <th>SD</th>\n      <th>NESC</th>\n      <th>PC</th>\n      <th>GS</th>\n      <th>CPV</th>\n      <th>infection_rate</th>\n      <th>death_rate</th>\n      <th>aging</th>\n      <th>pop_density_sqkm</th>\n      <th>education_index</th>\n      <th>airport_density_sqkm</th>\n    </tr>\n  </thead>\n  <tbody>\n    <tr>\n      <th>SD</th>\n      <td>1.0000</td>\n      <td>0.3858</td>\n      <td>0.4228</td>\n      <td>0.4448</td>\n      <td>0.2283</td>\n      <td>-0.2450</td>\n      <td>-0.1161</td>\n      <td>0.1413</td>\n      <td>-0.2529</td>\n      <td>-0.1211</td>\n      <td>-0.2349</td>\n    </tr>\n    <tr>\n      <th>NESC</th>\n      <td>0.3858</td>\n      <td>1.0000</td>\n      <td>0.4714</td>\n      <td>0.5040</td>\n      <td>0.4835</td>\n      <td>-0.1989</td>\n      <td>-0.0543</td>\n      <td>0.0771</td>\n      <td>-0.0165</td>\n      <td>0.0297</td>\n      <td>-0.0201</td>\n    </tr>\n    <tr>\n      <th>PC</th>\n      <td>0.4228</td>\n      <td>0.4714</td>\n      <td>1.0000</td>\n      <td>0.5256</td>\n      <td>0.4650</td>\n      <td>-0.2403</td>\n      <td>0.0245</td>\n      <td>0.1281</td>\n      <td>0.1183</td>\n      <td>0.1493</td>\n      <td>0.1308</td>\n    </tr>\n    <tr>\n      <th>GS</th>\n      <td>0.4448</td>\n      <td>0.5040</td>\n      <td>0.5256</td>\n      <td>1.0000</td>\n      <td>0.5144</td>\n      <td>-0.3442</td>\n      <td>-0.1505</td>\n      <td>-0.0888</td>\n      <td>0.0151</td>\n      <td>-0.0225</td>\n      <td>0.0272</td>\n    </tr>\n    <tr>\n      <th>CPV</th>\n      <td>0.2283</td>\n      <td>0.4835</td>\n      <td>0.4650</td>\n      <td>0.5144</td>\n      <td>1.0000</td>\n      <td>-0.1183</td>\n      <td>0.0169</td>\n      <td>0.2224</td>\n      <td>-0.2816</td>\n      <td>-0.2886</td>\n      <td>-0.2711</td>\n    </tr>\n    <tr>\n      <th>infection_rate</th>\n      <td>-0.2450</td>\n      <td>-0.1989</td>\n      <td>-0.2403</td>\n      <td>-0.3442</td>\n      <td>-0.1183</td>\n      <td>1.0000</td>\n      <td>0.1255</td>\n      <td>0.1968</td>\n      <td>0.1395</td>\n      <td>0.0041</td>\n      <td>0.1510</td>\n    </tr>\n    <tr>\n      <th>death_rate</th>\n      <td>-0.1161</td>\n      <td>-0.0543</td>\n      <td>0.0245</td>\n      <td>-0.1505</td>\n      <td>0.0169</td>\n      <td>0.1255</td>\n      <td>1.0000</td>\n      <td>-0.0090</td>\n      <td>-0.1279</td>\n      <td>-0.0411</td>\n      <td>-0.1391</td>\n    </tr>\n    <tr>\n      <th>aging</th>\n      <td>0.1413</td>\n      <td>0.0771</td>\n      <td>0.1281</td>\n      <td>-0.0888</td>\n      <td>0.2224</td>\n      <td>0.1968</td>\n      <td>-0.0090</td>\n      <td>1.0000</td>\n      <td>-0.4396</td>\n      <td>-0.2456</td>\n      <td>-0.4002</td>\n    </tr>\n    <tr>\n      <th>pop_density_sqkm</th>\n      <td>-0.2529</td>\n      <td>-0.0165</td>\n      <td>0.1183</td>\n      <td>0.0151</td>\n      <td>-0.2816</td>\n      <td>0.1395</td>\n      <td>-0.1279</td>\n      <td>-0.4396</td>\n      <td>1.0000</td>\n      <td>0.8281</td>\n      <td>0.9879</td>\n    </tr>\n    <tr>\n      <th>education_index</th>\n      <td>-0.1211</td>\n      <td>0.0297</td>\n      <td>0.1493</td>\n      <td>-0.0225</td>\n      <td>-0.2886</td>\n      <td>0.0041</td>\n      <td>-0.0411</td>\n      <td>-0.2456</td>\n      <td>0.8281</td>\n      <td>1.0000</td>\n      <td>0.8382</td>\n    </tr>\n    <tr>\n      <th>airport_density_sqkm</th>\n      <td>-0.2349</td>\n      <td>-0.0201</td>\n      <td>0.1308</td>\n      <td>0.0272</td>\n      <td>-0.2711</td>\n      <td>0.1510</td>\n      <td>-0.1391</td>\n      <td>-0.4002</td>\n      <td>0.9879</td>\n      <td>0.8382</td>\n      <td>1.0000</td>\n    </tr>\n  </tbody>\n</table>\n</div>"
     },
     "metadata": {},
     "execution_count": 6
    }
   ],
   "source": [
    "df_XY.drop(['state_name'], axis=1, inplace=False).corr(method ='pearson')"
   ]
  },
  {
   "cell_type": "markdown",
   "metadata": {},
   "source": [
    "### Feature Standardization"
   ]
  },
  {
   "cell_type": "code",
   "execution_count": 7,
   "metadata": {},
   "outputs": [
    {
     "output_type": "stream",
     "name": "stdout",
     "text": "X std [1. 1. 1. 1. 1. 1. 1. 1. 1.]\nX std [-3.70074342e-17 -3.33066907e-17  3.33066907e-17  7.40148683e-17\n  3.70074342e-18 -7.18869408e-16 -1.48029737e-17 -1.11891977e-14\n -2.49800181e-16]\n"
    }
   ],
   "source": [
    "var_drop = ['state_name', 'infection_rate', 'death_rate']\n",
    "df_X_train = df_XY.drop(columns=var_drop)\n",
    "X = preprocessing.scale(df_X_train.to_numpy())\n",
    "Y_infection = df_XY['infection_rate'].to_numpy()\n",
    "Y_death = df_XY['death_rate'].to_numpy()\n",
    "print('X std {}'.format(X.std(axis=0)))\n",
    "print('X std {}'.format(X.mean(axis=0)))"
   ]
  },
  {
   "cell_type": "markdown",
   "metadata": {},
   "source": [
    "## Model Fitting using Sklearn for $R^2$ score"
   ],
   "execution_count": null,
   "outputs": []
  },
  {
   "cell_type": "markdown",
   "metadata": {},
   "source": [
    "### Feature VS Infection Rate"
   ]
  },
  {
   "cell_type": "code",
   "execution_count": 8,
   "metadata": {},
   "outputs": [
    {
     "output_type": "execute_result",
     "data": {
      "text/plain": "0.32962215950599016"
     },
     "metadata": {},
     "execution_count": 8
    }
   ],
   "source": [
    "# infection\n",
    "regr = LinearRegression()\n",
    "infection_res = regr.fit(X, Y_infection)\n",
    "infection_res.score(X, Y_infection)"
   ]
  },
  {
   "cell_type": "markdown",
   "metadata": {},
   "source": [
    "### Feature VS Death Rate"
   ]
  },
  {
   "cell_type": "code",
   "execution_count": 9,
   "metadata": {},
   "outputs": [
    {
     "output_type": "execute_result",
     "data": {
      "text/plain": "0.12305461109052362"
     },
     "metadata": {},
     "execution_count": 9
    }
   ],
   "source": [
    "# death\n",
    "regr = LinearRegression()\n",
    "death_res = regr.fit(X, Y_death)\n",
    "death_res.score(X, Y_death)"
   ]
  },
  {
   "cell_type": "markdown",
   "metadata": {},
   "source": [
    "### Save Result"
   ]
  },
  {
   "cell_type": "code",
   "execution_count": 10,
   "metadata": {},
   "outputs": [
    {
     "output_type": "execute_result",
     "data": {
      "text/plain": "                feature  coef_infection  coef_death\n0                    SD          0.0161     -0.0028\n1                  NESC         -0.0064     -0.0003\n2                    PC         -0.0871      0.0035\n3                    GS         -0.1148     -0.0028\n4                   CPV          0.0508      0.0006\n5                 aging          0.1413     -0.0025\n6      pop_density_sqkm          0.0555     -0.0009\n7       education_index         -0.1977      0.0044\n8  airport_density_sqkm          0.2567     -0.0066",
      "text/html": "<div>\n<style scoped>\n    .dataframe tbody tr th:only-of-type {\n        vertical-align: middle;\n    }\n\n    .dataframe tbody tr th {\n        vertical-align: top;\n    }\n\n    .dataframe thead th {\n        text-align: right;\n    }\n</style>\n<table border=\"1\" class=\"dataframe\">\n  <thead>\n    <tr style=\"text-align: right;\">\n      <th></th>\n      <th>feature</th>\n      <th>coef_infection</th>\n      <th>coef_death</th>\n    </tr>\n  </thead>\n  <tbody>\n    <tr>\n      <th>0</th>\n      <td>SD</td>\n      <td>0.0161</td>\n      <td>-0.0028</td>\n    </tr>\n    <tr>\n      <th>1</th>\n      <td>NESC</td>\n      <td>-0.0064</td>\n      <td>-0.0003</td>\n    </tr>\n    <tr>\n      <th>2</th>\n      <td>PC</td>\n      <td>-0.0871</td>\n      <td>0.0035</td>\n    </tr>\n    <tr>\n      <th>3</th>\n      <td>GS</td>\n      <td>-0.1148</td>\n      <td>-0.0028</td>\n    </tr>\n    <tr>\n      <th>4</th>\n      <td>CPV</td>\n      <td>0.0508</td>\n      <td>0.0006</td>\n    </tr>\n    <tr>\n      <th>5</th>\n      <td>aging</td>\n      <td>0.1413</td>\n      <td>-0.0025</td>\n    </tr>\n    <tr>\n      <th>6</th>\n      <td>pop_density_sqkm</td>\n      <td>0.0555</td>\n      <td>-0.0009</td>\n    </tr>\n    <tr>\n      <th>7</th>\n      <td>education_index</td>\n      <td>-0.1977</td>\n      <td>0.0044</td>\n    </tr>\n    <tr>\n      <th>8</th>\n      <td>airport_density_sqkm</td>\n      <td>0.2567</td>\n      <td>-0.0066</td>\n    </tr>\n  </tbody>\n</table>\n</div>"
     },
     "metadata": {},
     "execution_count": 10
    }
   ],
   "source": [
    "df_coef = pd.DataFrame({'feature': df_X_train.columns, 'coef_infection': infection_res.coef_, 'coef_death': death_res.coef_})\n",
    "df_coef"
   ]
  },
  {
   "cell_type": "code",
   "execution_count": 11,
   "metadata": {},
   "outputs": [],
   "source": [
    "df_coef.to_csv('fit_res_sklearn.csv')"
   ]
  },
  {
   "cell_type": "markdown",
   "metadata": {},
   "source": [
    "## Model fitting using statsmodels for $p-$values"
   ],
   "execution_count": null,
   "outputs": []
  },
  {
   "cell_type": "markdown",
   "metadata": {},
   "source": [
    "### Append constants"
   ]
  },
  {
   "cell_type": "code",
   "execution_count": 12,
   "metadata": {},
   "outputs": [],
   "source": [
    "X_sm = sm.add_constant(X)"
   ]
  },
  {
   "cell_type": "markdown",
   "metadata": {},
   "source": [
    "### Feature VS Infection Rate"
   ]
  },
  {
   "cell_type": "code",
   "execution_count": 13,
   "metadata": {},
   "outputs": [],
   "source": [
    "model_infection = sm.OLS(Y_infection, X_sm)\n",
    "# fit linear\n",
    "infection_res_ols = model_infection.fit()\n",
    "# fit ElasticNet\n",
    "infection_res_ols_en = model_infection.fit_regularized()"
   ]
  },
  {
   "cell_type": "code",
   "execution_count": 14,
   "metadata": {},
   "outputs": [
    {
     "output_type": "stream",
     "name": "stdout",
     "text": "OLS Regression Results                            \n==============================================================================\nDep. Variable:                      y   R-squared:                       0.330\nModel:                            OLS   Adj. R-squared:                  0.209\nMethod:                 Least Squares   F-statistic:                     2.732\nDate:                Wed, 15 Apr 2020   Prob (F-statistic):             0.0113\nTime:                        01:32:21   Log-Likelihood:                -15.081\nNo. Observations:                  60   AIC:                             50.16\nDf Residuals:                      50   BIC:                             71.10\nDf Model:                           9                                         \nCovariance Type:            nonrobust                                         \n==============================================================================\n                 coef    std err          t      P>|t|      [0.025      0.975]\n------------------------------------------------------------------------------\nconst          0.4439      0.044     10.089      0.000       0.356       0.532\nx1             0.0161      0.057      0.282      0.779      -0.099       0.131\nx2            -0.0064      0.057     -0.112      0.911      -0.120       0.108\nx3            -0.0871      0.061     -1.419      0.162      -0.210       0.036\nx4            -0.1148      0.063     -1.821      0.075      -0.241       0.012\nx5             0.0508      0.063      0.806      0.424      -0.076       0.177\nx6             0.1413      0.054      2.599      0.012       0.032       0.250\nx7             0.0555      0.306      0.181      0.857      -0.559       0.670\nx8            -0.1977      0.085     -2.317      0.025      -0.369      -0.026\nx9             0.2567      0.303      0.848      0.400      -0.351       0.865\n==============================================================================\nOmnibus:                       17.260   Durbin-Watson:                   2.175\nProb(Omnibus):                  0.000   Jarque-Bera (JB):               21.560\nSkew:                           1.166   Prob(JB):                     2.08e-05\nKurtosis:                       4.784   Cond. No.                         17.5\n==============================================================================\n\nWarnings:\n[1] Standard Errors assume that the covariance matrix of the errors is correctly specified.\n"
    }
   ],
   "source": [
    "print(infection_res_ols.summary())"
   ]
  },
  {
   "cell_type": "markdown",
   "metadata": {},
   "source": [
    "### Feature VS Death Rate"
   ]
  },
  {
   "cell_type": "code",
   "execution_count": 15,
   "metadata": {},
   "outputs": [],
   "source": [
    "model_death = sm.OLS(Y_death, X_sm)\n",
    "# fit linear\n",
    "death_res_ols = model_death.fit()\n",
    "# fit ElasticNet\n",
    "death_res_ols_en = model_death.fit_regularized()"
   ]
  },
  {
   "cell_type": "code",
   "execution_count": 16,
   "metadata": {},
   "outputs": [
    {
     "output_type": "stream",
     "name": "stdout",
     "text": "OLS Regression Results                            \n==============================================================================\nDep. Variable:                      y   R-squared:                       0.123\nModel:                            OLS   Adj. R-squared:                 -0.035\nMethod:                 Least Squares   F-statistic:                    0.7796\nDate:                Wed, 15 Apr 2020   Prob (F-statistic):              0.636\nTime:                        01:32:21   Log-Likelihood:                 174.11\nNo. Observations:                  60   AIC:                            -328.2\nDf Residuals:                      50   BIC:                            -307.3\nDf Model:                           9                                         \nCovariance Type:            nonrobust                                         \n==============================================================================\n                 coef    std err          t      P>|t|      [0.025      0.975]\n------------------------------------------------------------------------------\nconst          0.0060      0.002      3.218      0.002       0.002       0.010\nx1            -0.0028      0.002     -1.147      0.257      -0.008       0.002\nx2            -0.0003      0.002     -0.124      0.902      -0.005       0.005\nx3             0.0035      0.003      1.345      0.185      -0.002       0.009\nx4            -0.0028      0.003     -1.056      0.296      -0.008       0.003\nx5             0.0006      0.003      0.229      0.820      -0.005       0.006\nx6            -0.0025      0.002     -1.089      0.281      -0.007       0.002\nx7            -0.0009      0.013     -0.068      0.946      -0.027       0.025\nx8             0.0044      0.004      1.194      0.238      -0.003       0.012\nx9            -0.0066      0.013     -0.513      0.610      -0.033       0.019\n==============================================================================\nOmnibus:                       70.678   Durbin-Watson:                   1.760\nProb(Omnibus):                  0.000   Jarque-Bera (JB):              565.591\nSkew:                           3.372   Prob(JB):                    1.53e-123\nKurtosis:                      16.444   Cond. No.                         17.5\n==============================================================================\n\nWarnings:\n[1] Standard Errors assume that the covariance matrix of the errors is correctly specified.\n"
    }
   ],
   "source": [
    "print(death_res_ols.summary())"
   ]
  },
  {
   "cell_type": "markdown",
   "metadata": {},
   "source": [
    "### Collect results"
   ]
  },
  {
   "cell_type": "code",
   "execution_count": 17,
   "metadata": {},
   "outputs": [
    {
     "output_type": "execute_result",
     "data": {
      "text/plain": "                feature  coef_infection  p_infection  coef_infection_en  \\\n0              constant          0.4439   1.1905e-13             0.4439   \n1                    SD          0.0161   7.7939e-01             0.0168   \n2                  NESC         -0.0064   9.1090e-01            -0.0073   \n3                    PC         -0.0871   1.6201e-01            -0.0877   \n4                    GS         -0.1148   7.4530e-02            -0.1141   \n5                   CPV          0.0508   4.2399e-01             0.0514   \n6                 aging          0.1413   1.2256e-02             0.1428   \n7      pop_density_sqkm          0.0555   8.5682e-01             0.0856   \n8       education_index         -0.1977   2.4613e-02            -0.1960   \n9  airport_density_sqkm          0.2567   4.0039e-01             0.2265   \n\n   coef_death  p_death  coef_death_en  \n0      0.0060   0.0023         0.0060  \n1     -0.0028   0.2568        -0.0028  \n2     -0.0003   0.9019        -0.0003  \n3      0.0035   0.1846         0.0035  \n4     -0.0028   0.2959        -0.0029  \n5      0.0006   0.8198         0.0006  \n6     -0.0025   0.2814        -0.0026  \n7     -0.0009   0.9459        -0.0019  \n8      0.0044   0.2380         0.0043  \n9     -0.0066   0.6102        -0.0056  ",
      "text/html": "<div>\n<style scoped>\n    .dataframe tbody tr th:only-of-type {\n        vertical-align: middle;\n    }\n\n    .dataframe tbody tr th {\n        vertical-align: top;\n    }\n\n    .dataframe thead th {\n        text-align: right;\n    }\n</style>\n<table border=\"1\" class=\"dataframe\">\n  <thead>\n    <tr style=\"text-align: right;\">\n      <th></th>\n      <th>feature</th>\n      <th>coef_infection</th>\n      <th>p_infection</th>\n      <th>coef_infection_en</th>\n      <th>coef_death</th>\n      <th>p_death</th>\n      <th>coef_death_en</th>\n    </tr>\n  </thead>\n  <tbody>\n    <tr>\n      <th>0</th>\n      <td>constant</td>\n      <td>0.4439</td>\n      <td>1.1905e-13</td>\n      <td>0.4439</td>\n      <td>0.0060</td>\n      <td>0.0023</td>\n      <td>0.0060</td>\n    </tr>\n    <tr>\n      <th>1</th>\n      <td>SD</td>\n      <td>0.0161</td>\n      <td>7.7939e-01</td>\n      <td>0.0168</td>\n      <td>-0.0028</td>\n      <td>0.2568</td>\n      <td>-0.0028</td>\n    </tr>\n    <tr>\n      <th>2</th>\n      <td>NESC</td>\n      <td>-0.0064</td>\n      <td>9.1090e-01</td>\n      <td>-0.0073</td>\n      <td>-0.0003</td>\n      <td>0.9019</td>\n      <td>-0.0003</td>\n    </tr>\n    <tr>\n      <th>3</th>\n      <td>PC</td>\n      <td>-0.0871</td>\n      <td>1.6201e-01</td>\n      <td>-0.0877</td>\n      <td>0.0035</td>\n      <td>0.1846</td>\n      <td>0.0035</td>\n    </tr>\n    <tr>\n      <th>4</th>\n      <td>GS</td>\n      <td>-0.1148</td>\n      <td>7.4530e-02</td>\n      <td>-0.1141</td>\n      <td>-0.0028</td>\n      <td>0.2959</td>\n      <td>-0.0029</td>\n    </tr>\n    <tr>\n      <th>5</th>\n      <td>CPV</td>\n      <td>0.0508</td>\n      <td>4.2399e-01</td>\n      <td>0.0514</td>\n      <td>0.0006</td>\n      <td>0.8198</td>\n      <td>0.0006</td>\n    </tr>\n    <tr>\n      <th>6</th>\n      <td>aging</td>\n      <td>0.1413</td>\n      <td>1.2256e-02</td>\n      <td>0.1428</td>\n      <td>-0.0025</td>\n      <td>0.2814</td>\n      <td>-0.0026</td>\n    </tr>\n    <tr>\n      <th>7</th>\n      <td>pop_density_sqkm</td>\n      <td>0.0555</td>\n      <td>8.5682e-01</td>\n      <td>0.0856</td>\n      <td>-0.0009</td>\n      <td>0.9459</td>\n      <td>-0.0019</td>\n    </tr>\n    <tr>\n      <th>8</th>\n      <td>education_index</td>\n      <td>-0.1977</td>\n      <td>2.4613e-02</td>\n      <td>-0.1960</td>\n      <td>0.0044</td>\n      <td>0.2380</td>\n      <td>0.0043</td>\n    </tr>\n    <tr>\n      <th>9</th>\n      <td>airport_density_sqkm</td>\n      <td>0.2567</td>\n      <td>4.0039e-01</td>\n      <td>0.2265</td>\n      <td>-0.0066</td>\n      <td>0.6102</td>\n      <td>-0.0056</td>\n    </tr>\n  </tbody>\n</table>\n</div>"
     },
     "metadata": {},
     "execution_count": 17
    }
   ],
   "source": [
    "df_coef_ols = pd.DataFrame({\n",
    "    'feature': ['constant'] + list(df_X_train.columns),\n",
    "    'coef_infection': infection_res_ols.params,\n",
    "    'p_infection': infection_res_ols.pvalues,\n",
    "    'coef_infection_en': infection_res_ols_en.params,\n",
    "    'coef_death': death_res_ols.params,\n",
    "    'p_death': death_res_ols.pvalues,\n",
    "    'coef_death_en': death_res_ols_en.params})\n",
    "df_coef_ols"
   ]
  },
  {
   "cell_type": "markdown",
   "metadata": {},
   "source": [
    "### **NOTE**: we notice that the coefficients given by fitting with regularization is similar to that without."
   ]
  },
  {
   "cell_type": "code",
   "execution_count": 18,
   "metadata": {},
   "outputs": [],
   "source": [
    "df_coef_ols.to_csv(\"fit_res_sm.csv\")"
   ]
  }
 ]
}